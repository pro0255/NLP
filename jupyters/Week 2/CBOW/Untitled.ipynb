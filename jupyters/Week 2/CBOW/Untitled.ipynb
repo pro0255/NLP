{
 "cells": [
  {
   "cell_type": "code",
   "execution_count": 15,
   "metadata": {},
   "outputs": [
    {
     "name": "stdout",
     "output_type": "stream",
     "text": [
      "[-0.03918911473944496, -0.04605170185988091, -0.04605170185988091, -0.04605170185988091, -0.04605170185988091]\n"
     ]
    },
    {
     "data": {
      "text/plain": [
       "-1.098199848984926"
      ]
     },
     "execution_count": 15,
     "metadata": {},
     "output_type": "execute_result"
    }
   ],
   "source": [
    "import math\n",
    "import numpy as np\n",
    "\n",
    "def tmp_func(number):\n",
    "    return math.log(number) * number\n",
    "    \n",
    "    \n",
    "a = np.array([.083, .03, .611, .225, .05]) \n",
    "b = np.array([tmp_func(item) for item in a])\n",
    "\n",
    "c = [0.96, 0.01, .01, .01, .01] \n",
    "cr = [tmp_func(item) for item in c]\n",
    "print(cr)\n",
    "b.sum()\n"
   ]
  }
 ],
 "metadata": {
  "kernelspec": {
   "display_name": "Python 3",
   "language": "python",
   "name": "python3"
  },
  "language_info": {
   "codemirror_mode": {
    "name": "ipython",
    "version": 3
   },
   "file_extension": ".py",
   "mimetype": "text/x-python",
   "name": "python",
   "nbconvert_exporter": "python",
   "pygments_lexer": "ipython3",
   "version": "3.8.1"
  }
 },
 "nbformat": 4,
 "nbformat_minor": 4
}
