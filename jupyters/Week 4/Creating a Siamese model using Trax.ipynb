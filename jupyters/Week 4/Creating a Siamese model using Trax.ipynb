{
 "cells": [
  {
   "cell_type": "markdown",
   "id": "appreciated-basketball",
   "metadata": {},
   "source": [
    "\n",
    "# Creating a Siamese model using Trax: Ungraded Lecture Notebook¶\n"
   ]
  },
  {
   "cell_type": "code",
   "execution_count": 2,
   "id": "agricultural-spread",
   "metadata": {},
   "outputs": [],
   "source": [
    "import trax\n",
    "from trax import layers as tl\n",
    "import trax.fastmath.numpy as np\n",
    "import numpy"
   ]
  },
  {
   "cell_type": "code",
   "execution_count": 8,
   "id": "major-march",
   "metadata": {},
   "outputs": [],
   "source": [
    "\n",
    "numpy.random.seed(10)"
   ]
  },
  {
   "cell_type": "code",
   "execution_count": 9,
   "id": "tested-liberty",
   "metadata": {},
   "outputs": [],
   "source": [
    "def normalize(x):\n",
    "    return x / np.sqrt(np.sum(x * x, axis=-1, keepdims=True))"
   ]
  },
  {
   "cell_type": "code",
   "execution_count": 10,
   "id": "acute-paraguay",
   "metadata": {},
   "outputs": [
    {
     "name": "stdout",
     "output_type": "stream",
     "text": [
      "The tensor is of type: <class 'numpy.ndarray'>\n",
      "\n",
      "And looks like this:\n",
      "\n",
      " [[0.77132064 0.02075195 0.63364823 0.74880388 0.49850701]\n",
      " [0.22479665 0.19806286 0.76053071 0.16911084 0.08833981]]\n"
     ]
    }
   ],
   "source": [
    "tensor = numpy.random.random((2,5))\n",
    "print(f'The tensor is of type: {type(tensor)}\\n\\nAnd looks like this:\\n\\n {tensor}')"
   ]
  },
  {
   "cell_type": "code",
   "execution_count": 11,
   "id": "northern-lawsuit",
   "metadata": {},
   "outputs": [
    {
     "name": "stdout",
     "output_type": "stream",
     "text": [
      "The normalized tensor is of type: <class 'jax.interpreters.xla._DeviceArray'>\n",
      "\n",
      "And looks like this:\n",
      "\n",
      " [[0.57393795 0.01544148 0.4714962  0.55718327 0.37093794]\n",
      " [0.26781026 0.23596111 0.9060541  0.20146926 0.10524315]]\n"
     ]
    }
   ],
   "source": [
    "norm_tensor = normalize(tensor)\n",
    "print(f'The normalized tensor is of type: {type(norm_tensor)}\\n\\nAnd looks like this:\\n\\n {norm_tensor}')"
   ]
  }
 ],
 "metadata": {
  "kernelspec": {
   "display_name": "Python 3",
   "language": "python",
   "name": "python3"
  },
  "language_info": {
   "codemirror_mode": {
    "name": "ipython",
    "version": 3
   },
   "file_extension": ".py",
   "mimetype": "text/x-python",
   "name": "python",
   "nbconvert_exporter": "python",
   "pygments_lexer": "ipython3",
   "version": "3.8.5"
  }
 },
 "nbformat": 4,
 "nbformat_minor": 5
}
