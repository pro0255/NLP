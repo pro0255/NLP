{
 "cells": [
  {
   "cell_type": "markdown",
   "metadata": {},
   "source": [
    "https://www.coursera.org/learn/classification-vector-spaces-in-nlp/lecture/dDdRc/welcome-to-the-nlp-specialization\n",
    "\n",
    "Course on NLP on coursera\n",
    "\n",
    "Kind of sentiment analysis and introduction to representation of text as vectors.\n",
    "\n",
    "\"Learn to extract features from text into numerical vectors, then build a binary classifier for tweets using a logistic regression!\"\n",
    "\n",
    "[data-set] = http://www.nltk.org/howto/twitter.html#corpus_reader\n"
   ]
  },
  {
   "cell_type": "code",
   "execution_count": 52,
   "metadata": {},
   "outputs": [
    {
     "name": "stderr",
     "output_type": "stream",
     "text": [
      "[nltk_data] Downloading package twitter_samples to\n",
      "[nltk_data]     C:\\Users\\Vojta\\AppData\\Roaming\\nltk_data...\n"
     ]
    },
    {
     "ename": "PermissionError",
     "evalue": "[WinError 32] Proces nemá přístup k souboru, neboť jej právě využívá jiný proces: 'C:\\\\Users\\\\Vojta\\\\AppData\\\\Roaming\\\\nltk_data\\\\corpora\\\\twitter_samples.zip'",
     "output_type": "error",
     "traceback": [
      "\u001b[1;31m---------------------------------------------------------------------------\u001b[0m",
      "\u001b[1;31mPermissionError\u001b[0m                           Traceback (most recent call last)",
      "\u001b[1;32m<ipython-input-52-a4de75049ec4>\u001b[0m in \u001b[0;36m<module>\u001b[1;34m\u001b[0m\n\u001b[0;32m      1\u001b[0m \u001b[1;32mimport\u001b[0m \u001b[0mnltk\u001b[0m\u001b[1;33m\u001b[0m\u001b[1;33m\u001b[0m\u001b[0m\n\u001b[1;32m----> 2\u001b[1;33m \u001b[0mnltk\u001b[0m\u001b[1;33m.\u001b[0m\u001b[0mdownload\u001b[0m\u001b[1;33m(\u001b[0m\u001b[1;34m'twitter_samples'\u001b[0m\u001b[1;33m)\u001b[0m\u001b[1;33m\u001b[0m\u001b[1;33m\u001b[0m\u001b[0m\n\u001b[0m",
      "\u001b[1;32mc:\\users\\vojta\\desktop\\own\\university\\ing\\projects\\seminar\\analysis\\venv\\lib\\site-packages\\nltk\\downloader.py\u001b[0m in \u001b[0;36mdownload\u001b[1;34m(self, info_or_id, download_dir, quiet, force, prefix, halt_on_error, raise_on_error, print_error_to)\u001b[0m\n\u001b[0;32m    777\u001b[0m                 )\n\u001b[0;32m    778\u001b[0m \u001b[1;33m\u001b[0m\u001b[0m\n\u001b[1;32m--> 779\u001b[1;33m             \u001b[1;32mfor\u001b[0m \u001b[0mmsg\u001b[0m \u001b[1;32min\u001b[0m \u001b[0mself\u001b[0m\u001b[1;33m.\u001b[0m\u001b[0mincr_download\u001b[0m\u001b[1;33m(\u001b[0m\u001b[0minfo_or_id\u001b[0m\u001b[1;33m,\u001b[0m \u001b[0mdownload_dir\u001b[0m\u001b[1;33m,\u001b[0m \u001b[0mforce\u001b[0m\u001b[1;33m)\u001b[0m\u001b[1;33m:\u001b[0m\u001b[1;33m\u001b[0m\u001b[1;33m\u001b[0m\u001b[0m\n\u001b[0m\u001b[0;32m    780\u001b[0m                 \u001b[1;31m# Error messages\u001b[0m\u001b[1;33m\u001b[0m\u001b[1;33m\u001b[0m\u001b[1;33m\u001b[0m\u001b[0m\n\u001b[0;32m    781\u001b[0m                 \u001b[1;32mif\u001b[0m \u001b[0misinstance\u001b[0m\u001b[1;33m(\u001b[0m\u001b[0mmsg\u001b[0m\u001b[1;33m,\u001b[0m \u001b[0mErrorMessage\u001b[0m\u001b[1;33m)\u001b[0m\u001b[1;33m:\u001b[0m\u001b[1;33m\u001b[0m\u001b[1;33m\u001b[0m\u001b[0m\n",
      "\u001b[1;32mc:\\users\\vojta\\desktop\\own\\university\\ing\\projects\\seminar\\analysis\\venv\\lib\\site-packages\\nltk\\downloader.py\u001b[0m in \u001b[0;36mincr_download\u001b[1;34m(self, info_or_id, download_dir, force)\u001b[0m\n\u001b[0;32m    641\u001b[0m         \u001b[1;31m# Handle Packages (delegate to a helper function).\u001b[0m\u001b[1;33m\u001b[0m\u001b[1;33m\u001b[0m\u001b[1;33m\u001b[0m\u001b[0m\n\u001b[0;32m    642\u001b[0m         \u001b[1;32melse\u001b[0m\u001b[1;33m:\u001b[0m\u001b[1;33m\u001b[0m\u001b[1;33m\u001b[0m\u001b[0m\n\u001b[1;32m--> 643\u001b[1;33m             \u001b[1;32mfor\u001b[0m \u001b[0mmsg\u001b[0m \u001b[1;32min\u001b[0m \u001b[0mself\u001b[0m\u001b[1;33m.\u001b[0m\u001b[0m_download_package\u001b[0m\u001b[1;33m(\u001b[0m\u001b[0minfo\u001b[0m\u001b[1;33m,\u001b[0m \u001b[0mdownload_dir\u001b[0m\u001b[1;33m,\u001b[0m \u001b[0mforce\u001b[0m\u001b[1;33m)\u001b[0m\u001b[1;33m:\u001b[0m\u001b[1;33m\u001b[0m\u001b[1;33m\u001b[0m\u001b[0m\n\u001b[0m\u001b[0;32m    644\u001b[0m                 \u001b[1;32myield\u001b[0m \u001b[0mmsg\u001b[0m\u001b[1;33m\u001b[0m\u001b[1;33m\u001b[0m\u001b[0m\n\u001b[0;32m    645\u001b[0m \u001b[1;33m\u001b[0m\u001b[0m\n",
      "\u001b[1;32mc:\\users\\vojta\\desktop\\own\\university\\ing\\projects\\seminar\\analysis\\venv\\lib\\site-packages\\nltk\\downloader.py\u001b[0m in \u001b[0;36m_download_package\u001b[1;34m(self, info, download_dir, force)\u001b[0m\n\u001b[0;32m    695\u001b[0m             \u001b[1;32mif\u001b[0m \u001b[0mstatus\u001b[0m \u001b[1;33m==\u001b[0m \u001b[0mself\u001b[0m\u001b[1;33m.\u001b[0m\u001b[0mSTALE\u001b[0m\u001b[1;33m:\u001b[0m\u001b[1;33m\u001b[0m\u001b[1;33m\u001b[0m\u001b[0m\n\u001b[0;32m    696\u001b[0m                 \u001b[1;32myield\u001b[0m \u001b[0mStaleMessage\u001b[0m\u001b[1;33m(\u001b[0m\u001b[0minfo\u001b[0m\u001b[1;33m)\u001b[0m\u001b[1;33m\u001b[0m\u001b[1;33m\u001b[0m\u001b[0m\n\u001b[1;32m--> 697\u001b[1;33m             \u001b[0mos\u001b[0m\u001b[1;33m.\u001b[0m\u001b[0mremove\u001b[0m\u001b[1;33m(\u001b[0m\u001b[0mfilepath\u001b[0m\u001b[1;33m)\u001b[0m\u001b[1;33m\u001b[0m\u001b[1;33m\u001b[0m\u001b[0m\n\u001b[0m\u001b[0;32m    698\u001b[0m \u001b[1;33m\u001b[0m\u001b[0m\n\u001b[0;32m    699\u001b[0m         \u001b[1;31m# Ensure the download_dir exists\u001b[0m\u001b[1;33m\u001b[0m\u001b[1;33m\u001b[0m\u001b[1;33m\u001b[0m\u001b[0m\n",
      "\u001b[1;31mPermissionError\u001b[0m: [WinError 32] Proces nemá přístup k souboru, neboť jej právě využívá jiný proces: 'C:\\\\Users\\\\Vojta\\\\AppData\\\\Roaming\\\\nltk_data\\\\corpora\\\\twitter_samples.zip'"
     ]
    }
   ],
   "source": [
    "import nltk\n",
    "nltk.download('twitter_samples')"
   ]
  },
  {
   "cell_type": "code",
   "execution_count": 14,
   "metadata": {},
   "outputs": [],
   "source": [
    "import numpy as np\n",
    "import pandas as pd\n",
    "from nltk.corpus import twitter_samples\n",
    "import os"
   ]
  },
  {
   "cell_type": "code",
   "execution_count": 15,
   "metadata": {},
   "outputs": [
    {
     "data": {
      "text/plain": [
       "['negative_tweets.json', 'positive_tweets.json', 'tweets.20150430-223406.json']"
      ]
     },
     "execution_count": 15,
     "metadata": {},
     "output_type": "execute_result"
    }
   ],
   "source": [
    "twitter_samples.fileids()"
   ]
  },
  {
   "cell_type": "code",
   "execution_count": 16,
   "metadata": {},
   "outputs": [
    {
     "name": "stdout",
     "output_type": "stream",
     "text": [
      "C:\\Users\\Vojta\\Desktop\\own\\university\\ing\\projects\\seminar\\analysis\\jupyters\\Week 1\\LogisticRegression\n"
     ]
    }
   ],
   "source": [
    "print(os.getcwd())"
   ]
  },
  {
   "cell_type": "code",
   "execution_count": 17,
   "metadata": {},
   "outputs": [],
   "source": [
    "path_to_dataset = '.\\\\DataSets\\\\'"
   ]
  },
  {
   "cell_type": "code",
   "execution_count": 18,
   "metadata": {},
   "outputs": [],
   "source": [
    "name_of_negative = 'negative_tweets.json'\n",
    "negative_tweets = pd.read_json(f'{path_to_dataset}{name_of_negative}', lines=True)"
   ]
  },
  {
   "cell_type": "code",
   "execution_count": 19,
   "metadata": {},
   "outputs": [],
   "source": [
    "name_of_positive = 'positive_tweets.json' \n",
    "positive_tweets = pd.read_json(f'{path_to_dataset}{name_of_positive}', lines=True)"
   ]
  },
  {
   "cell_type": "code",
   "execution_count": 20,
   "metadata": {},
   "outputs": [
    {
     "data": {
      "text/html": [
       "<div>\n",
       "<style scoped>\n",
       "    .dataframe tbody tr th:only-of-type {\n",
       "        vertical-align: middle;\n",
       "    }\n",
       "\n",
       "    .dataframe tbody tr th {\n",
       "        vertical-align: top;\n",
       "    }\n",
       "\n",
       "    .dataframe thead th {\n",
       "        text-align: right;\n",
       "    }\n",
       "</style>\n",
       "<table border=\"1\" class=\"dataframe\">\n",
       "  <thead>\n",
       "    <tr style=\"text-align: right;\">\n",
       "      <th></th>\n",
       "      <th>contributors</th>\n",
       "      <th>coordinates</th>\n",
       "      <th>text</th>\n",
       "      <th>user</th>\n",
       "      <th>retweet_count</th>\n",
       "      <th>favorited</th>\n",
       "      <th>entities</th>\n",
       "      <th>source</th>\n",
       "      <th>truncated</th>\n",
       "      <th>geo</th>\n",
       "      <th>...</th>\n",
       "      <th>in_reply_to_user_id</th>\n",
       "      <th>created_at</th>\n",
       "      <th>metadata</th>\n",
       "      <th>favorite_count</th>\n",
       "      <th>id_str</th>\n",
       "      <th>id</th>\n",
       "      <th>quoted_status</th>\n",
       "      <th>quoted_status_id</th>\n",
       "      <th>possibly_sensitive</th>\n",
       "      <th>quoted_status_id_str</th>\n",
       "    </tr>\n",
       "  </thead>\n",
       "  <tbody>\n",
       "    <tr>\n",
       "      <th>0</th>\n",
       "      <td>NaN</td>\n",
       "      <td>None</td>\n",
       "      <td>hopeless for tmr :(</td>\n",
       "      <td>{'screen_name': 'yuwraxkim', 'time_zone': 'Jak...</td>\n",
       "      <td>0</td>\n",
       "      <td>False</td>\n",
       "      <td>{'hashtags': [], 'user_mentions': [], 'urls': ...</td>\n",
       "      <td>&lt;a href=\"https://mobile.twitter.com\" rel=\"nofo...</td>\n",
       "      <td>False</td>\n",
       "      <td>None</td>\n",
       "      <td>...</td>\n",
       "      <td>NaN</td>\n",
       "      <td>2015-07-24 10:42:49+00:00</td>\n",
       "      <td>{'iso_language_code': 'en', 'result_type': 're...</td>\n",
       "      <td>0</td>\n",
       "      <td>624530164626534400</td>\n",
       "      <td>624530164626534400</td>\n",
       "      <td>NaN</td>\n",
       "      <td>NaN</td>\n",
       "      <td>NaN</td>\n",
       "      <td>NaN</td>\n",
       "    </tr>\n",
       "    <tr>\n",
       "      <th>1</th>\n",
       "      <td>NaN</td>\n",
       "      <td>None</td>\n",
       "      <td>Everything in the kids section of IKEA is so c...</td>\n",
       "      <td>{'screen_name': 'EveHollyHousley', 'time_zone'...</td>\n",
       "      <td>0</td>\n",
       "      <td>False</td>\n",
       "      <td>{'hashtags': [], 'user_mentions': [], 'urls': ...</td>\n",
       "      <td>&lt;a href=\"http://twitter.com/download/iphone\" r...</td>\n",
       "      <td>False</td>\n",
       "      <td>None</td>\n",
       "      <td>...</td>\n",
       "      <td>NaN</td>\n",
       "      <td>2015-07-24 10:42:48+00:00</td>\n",
       "      <td>{'iso_language_code': 'en', 'result_type': 're...</td>\n",
       "      <td>0</td>\n",
       "      <td>624530162890219520</td>\n",
       "      <td>624530162890219521</td>\n",
       "      <td>NaN</td>\n",
       "      <td>NaN</td>\n",
       "      <td>NaN</td>\n",
       "      <td>NaN</td>\n",
       "    </tr>\n",
       "    <tr>\n",
       "      <th>2</th>\n",
       "      <td>NaN</td>\n",
       "      <td>None</td>\n",
       "      <td>@Hegelbon That heart sliding into the waste ba...</td>\n",
       "      <td>{'screen_name': 'prostgrad', 'time_zone': 'Ath...</td>\n",
       "      <td>0</td>\n",
       "      <td>False</td>\n",
       "      <td>{'hashtags': [], 'user_mentions': [{'id_str': ...</td>\n",
       "      <td>&lt;a href=\"http://twitter.com\" rel=\"nofollow\"&gt;Tw...</td>\n",
       "      <td>False</td>\n",
       "      <td>None</td>\n",
       "      <td>...</td>\n",
       "      <td>1.633281e+09</td>\n",
       "      <td>2015-07-24 10:42:48+00:00</td>\n",
       "      <td>{'iso_language_code': 'en', 'result_type': 're...</td>\n",
       "      <td>1</td>\n",
       "      <td>624530162600812544</td>\n",
       "      <td>624530162600812544</td>\n",
       "      <td>NaN</td>\n",
       "      <td>NaN</td>\n",
       "      <td>NaN</td>\n",
       "      <td>NaN</td>\n",
       "    </tr>\n",
       "    <tr>\n",
       "      <th>3</th>\n",
       "      <td>NaN</td>\n",
       "      <td>None</td>\n",
       "      <td>“@ketchBurning: I hate Japanese call him \"bani...</td>\n",
       "      <td>{'screen_name': 'burningyoppy', 'time_zone': '...</td>\n",
       "      <td>0</td>\n",
       "      <td>False</td>\n",
       "      <td>{'hashtags': [], 'user_mentions': [{'id_str': ...</td>\n",
       "      <td>&lt;a href=\"http://twitter.com/download/iphone\" r...</td>\n",
       "      <td>False</td>\n",
       "      <td>None</td>\n",
       "      <td>...</td>\n",
       "      <td>2.185486e+08</td>\n",
       "      <td>2015-07-24 10:42:48+00:00</td>\n",
       "      <td>{'iso_language_code': 'en', 'result_type': 're...</td>\n",
       "      <td>0</td>\n",
       "      <td>624530161011048448</td>\n",
       "      <td>624530161011048448</td>\n",
       "      <td>NaN</td>\n",
       "      <td>NaN</td>\n",
       "      <td>NaN</td>\n",
       "      <td>NaN</td>\n",
       "    </tr>\n",
       "    <tr>\n",
       "      <th>4</th>\n",
       "      <td>NaN</td>\n",
       "      <td>None</td>\n",
       "      <td>Dang starting next week I have \"work\" :(</td>\n",
       "      <td>{'screen_name': '3angiefalangie', 'time_zone':...</td>\n",
       "      <td>0</td>\n",
       "      <td>False</td>\n",
       "      <td>{'hashtags': [], 'user_mentions': [], 'urls': ...</td>\n",
       "      <td>&lt;a href=\"http://twitter.com/download/iphone\" r...</td>\n",
       "      <td>False</td>\n",
       "      <td>None</td>\n",
       "      <td>...</td>\n",
       "      <td>NaN</td>\n",
       "      <td>2015-07-24 10:42:47+00:00</td>\n",
       "      <td>{'iso_language_code': 'en', 'result_type': 're...</td>\n",
       "      <td>0</td>\n",
       "      <td>624530159928934400</td>\n",
       "      <td>624530159928934400</td>\n",
       "      <td>NaN</td>\n",
       "      <td>NaN</td>\n",
       "      <td>NaN</td>\n",
       "      <td>NaN</td>\n",
       "    </tr>\n",
       "  </tbody>\n",
       "</table>\n",
       "<p>5 rows × 28 columns</p>\n",
       "</div>"
      ],
      "text/plain": [
       "   contributors coordinates  \\\n",
       "0           NaN        None   \n",
       "1           NaN        None   \n",
       "2           NaN        None   \n",
       "3           NaN        None   \n",
       "4           NaN        None   \n",
       "\n",
       "                                                text  \\\n",
       "0                                hopeless for tmr :(   \n",
       "1  Everything in the kids section of IKEA is so c...   \n",
       "2  @Hegelbon That heart sliding into the waste ba...   \n",
       "3  “@ketchBurning: I hate Japanese call him \"bani...   \n",
       "4           Dang starting next week I have \"work\" :(   \n",
       "\n",
       "                                                user  retweet_count  \\\n",
       "0  {'screen_name': 'yuwraxkim', 'time_zone': 'Jak...              0   \n",
       "1  {'screen_name': 'EveHollyHousley', 'time_zone'...              0   \n",
       "2  {'screen_name': 'prostgrad', 'time_zone': 'Ath...              0   \n",
       "3  {'screen_name': 'burningyoppy', 'time_zone': '...              0   \n",
       "4  {'screen_name': '3angiefalangie', 'time_zone':...              0   \n",
       "\n",
       "   favorited                                           entities  \\\n",
       "0      False  {'hashtags': [], 'user_mentions': [], 'urls': ...   \n",
       "1      False  {'hashtags': [], 'user_mentions': [], 'urls': ...   \n",
       "2      False  {'hashtags': [], 'user_mentions': [{'id_str': ...   \n",
       "3      False  {'hashtags': [], 'user_mentions': [{'id_str': ...   \n",
       "4      False  {'hashtags': [], 'user_mentions': [], 'urls': ...   \n",
       "\n",
       "                                              source  truncated   geo  ...  \\\n",
       "0  <a href=\"https://mobile.twitter.com\" rel=\"nofo...      False  None  ...   \n",
       "1  <a href=\"http://twitter.com/download/iphone\" r...      False  None  ...   \n",
       "2  <a href=\"http://twitter.com\" rel=\"nofollow\">Tw...      False  None  ...   \n",
       "3  <a href=\"http://twitter.com/download/iphone\" r...      False  None  ...   \n",
       "4  <a href=\"http://twitter.com/download/iphone\" r...      False  None  ...   \n",
       "\n",
       "   in_reply_to_user_id                created_at  \\\n",
       "0                  NaN 2015-07-24 10:42:49+00:00   \n",
       "1                  NaN 2015-07-24 10:42:48+00:00   \n",
       "2         1.633281e+09 2015-07-24 10:42:48+00:00   \n",
       "3         2.185486e+08 2015-07-24 10:42:48+00:00   \n",
       "4                  NaN 2015-07-24 10:42:47+00:00   \n",
       "\n",
       "                                            metadata favorite_count  \\\n",
       "0  {'iso_language_code': 'en', 'result_type': 're...              0   \n",
       "1  {'iso_language_code': 'en', 'result_type': 're...              0   \n",
       "2  {'iso_language_code': 'en', 'result_type': 're...              1   \n",
       "3  {'iso_language_code': 'en', 'result_type': 're...              0   \n",
       "4  {'iso_language_code': 'en', 'result_type': 're...              0   \n",
       "\n",
       "               id_str                  id quoted_status  quoted_status_id  \\\n",
       "0  624530164626534400  624530164626534400           NaN               NaN   \n",
       "1  624530162890219520  624530162890219521           NaN               NaN   \n",
       "2  624530162600812544  624530162600812544           NaN               NaN   \n",
       "3  624530161011048448  624530161011048448           NaN               NaN   \n",
       "4  624530159928934400  624530159928934400           NaN               NaN   \n",
       "\n",
       "   possibly_sensitive quoted_status_id_str  \n",
       "0                 NaN                  NaN  \n",
       "1                 NaN                  NaN  \n",
       "2                 NaN                  NaN  \n",
       "3                 NaN                  NaN  \n",
       "4                 NaN                  NaN  \n",
       "\n",
       "[5 rows x 28 columns]"
      ]
     },
     "execution_count": 20,
     "metadata": {},
     "output_type": "execute_result"
    }
   ],
   "source": [
    "negative_tweets.head()"
   ]
  },
  {
   "cell_type": "code",
   "execution_count": 21,
   "metadata": {
    "scrolled": true
   },
   "outputs": [
    {
     "data": {
      "text/html": [
       "<div>\n",
       "<style scoped>\n",
       "    .dataframe tbody tr th:only-of-type {\n",
       "        vertical-align: middle;\n",
       "    }\n",
       "\n",
       "    .dataframe tbody tr th {\n",
       "        vertical-align: top;\n",
       "    }\n",
       "\n",
       "    .dataframe thead th {\n",
       "        text-align: right;\n",
       "    }\n",
       "</style>\n",
       "<table border=\"1\" class=\"dataframe\">\n",
       "  <thead>\n",
       "    <tr style=\"text-align: right;\">\n",
       "      <th></th>\n",
       "      <th>contributors</th>\n",
       "      <th>coordinates</th>\n",
       "      <th>text</th>\n",
       "      <th>user</th>\n",
       "      <th>retweet_count</th>\n",
       "      <th>favorited</th>\n",
       "      <th>entities</th>\n",
       "      <th>source</th>\n",
       "      <th>truncated</th>\n",
       "      <th>geo</th>\n",
       "      <th>...</th>\n",
       "      <th>in_reply_to_user_id</th>\n",
       "      <th>created_at</th>\n",
       "      <th>metadata</th>\n",
       "      <th>favorite_count</th>\n",
       "      <th>id_str</th>\n",
       "      <th>id</th>\n",
       "      <th>possibly_sensitive</th>\n",
       "      <th>quoted_status_id</th>\n",
       "      <th>quoted_status</th>\n",
       "      <th>quoted_status_id_str</th>\n",
       "    </tr>\n",
       "  </thead>\n",
       "  <tbody>\n",
       "    <tr>\n",
       "      <th>0</th>\n",
       "      <td>NaN</td>\n",
       "      <td>None</td>\n",
       "      <td>#FollowFriday @France_Inte @PKuchly57 @Milipol...</td>\n",
       "      <td>{'time_zone': 'Paris', 'profile_background_ima...</td>\n",
       "      <td>0</td>\n",
       "      <td>False</td>\n",
       "      <td>{'hashtags': [{'indices': [0, 13], 'text': 'Fo...</td>\n",
       "      <td>&lt;a href=\"https://commun.it\" rel=\"nofollow\"&gt;Com...</td>\n",
       "      <td>False</td>\n",
       "      <td>None</td>\n",
       "      <td>...</td>\n",
       "      <td>NaN</td>\n",
       "      <td>2015-07-24 08:23:36+00:00</td>\n",
       "      <td>{'iso_language_code': 'en', 'result_type': 're...</td>\n",
       "      <td>0</td>\n",
       "      <td>624495129303351296</td>\n",
       "      <td>624495129303351296</td>\n",
       "      <td>NaN</td>\n",
       "      <td>NaN</td>\n",
       "      <td>NaN</td>\n",
       "      <td>NaN</td>\n",
       "    </tr>\n",
       "    <tr>\n",
       "      <th>1</th>\n",
       "      <td>NaN</td>\n",
       "      <td>None</td>\n",
       "      <td>@Lamb2ja Hey James! How odd :/ Please call our...</td>\n",
       "      <td>{'time_zone': 'London', 'profile_background_im...</td>\n",
       "      <td>0</td>\n",
       "      <td>False</td>\n",
       "      <td>{'hashtags': [], 'user_mentions': [{'screen_na...</td>\n",
       "      <td>&lt;a href=\"http://twitter.com\" rel=\"nofollow\"&gt;Tw...</td>\n",
       "      <td>False</td>\n",
       "      <td>None</td>\n",
       "      <td>...</td>\n",
       "      <td>19458835.0</td>\n",
       "      <td>2015-07-24 08:23:35+00:00</td>\n",
       "      <td>{'iso_language_code': 'en', 'result_type': 're...</td>\n",
       "      <td>0</td>\n",
       "      <td>624495128510656512</td>\n",
       "      <td>624495128510656513</td>\n",
       "      <td>NaN</td>\n",
       "      <td>NaN</td>\n",
       "      <td>NaN</td>\n",
       "      <td>NaN</td>\n",
       "    </tr>\n",
       "    <tr>\n",
       "      <th>2</th>\n",
       "      <td>NaN</td>\n",
       "      <td>None</td>\n",
       "      <td>@DespiteOfficial we had a listen last night :)...</td>\n",
       "      <td>{'time_zone': 'Casablanca', 'profile_backgroun...</td>\n",
       "      <td>0</td>\n",
       "      <td>False</td>\n",
       "      <td>{'hashtags': [], 'user_mentions': [{'screen_na...</td>\n",
       "      <td>&lt;a href=\"http://twitter.com\" rel=\"nofollow\"&gt;Tw...</td>\n",
       "      <td>False</td>\n",
       "      <td>None</td>\n",
       "      <td>...</td>\n",
       "      <td>275918243.0</td>\n",
       "      <td>2015-07-24 08:23:35+00:00</td>\n",
       "      <td>{'iso_language_code': 'en', 'result_type': 're...</td>\n",
       "      <td>0</td>\n",
       "      <td>624495126535106560</td>\n",
       "      <td>624495126535106560</td>\n",
       "      <td>NaN</td>\n",
       "      <td>NaN</td>\n",
       "      <td>NaN</td>\n",
       "      <td>NaN</td>\n",
       "    </tr>\n",
       "    <tr>\n",
       "      <th>3</th>\n",
       "      <td>NaN</td>\n",
       "      <td>None</td>\n",
       "      <td>@97sides CONGRATS :)</td>\n",
       "      <td>{'time_zone': 'Paris', 'profile_background_ima...</td>\n",
       "      <td>0</td>\n",
       "      <td>False</td>\n",
       "      <td>{'hashtags': [], 'user_mentions': [{'screen_na...</td>\n",
       "      <td>&lt;a href=\"http://twitter.com/download/iphone\" r...</td>\n",
       "      <td>False</td>\n",
       "      <td>None</td>\n",
       "      <td>...</td>\n",
       "      <td>774644509.0</td>\n",
       "      <td>2015-07-24 08:23:35+00:00</td>\n",
       "      <td>{'iso_language_code': 'en', 'result_type': 're...</td>\n",
       "      <td>0</td>\n",
       "      <td>624495126170238976</td>\n",
       "      <td>624495126170238976</td>\n",
       "      <td>NaN</td>\n",
       "      <td>NaN</td>\n",
       "      <td>NaN</td>\n",
       "      <td>NaN</td>\n",
       "    </tr>\n",
       "    <tr>\n",
       "      <th>4</th>\n",
       "      <td>NaN</td>\n",
       "      <td>None</td>\n",
       "      <td>yeaaaah yippppy!!!  my accnt verified rqst has...</td>\n",
       "      <td>{'time_zone': None, 'profile_background_image_...</td>\n",
       "      <td>0</td>\n",
       "      <td>False</td>\n",
       "      <td>{'hashtags': [], 'user_mentions': [], 'urls': ...</td>\n",
       "      <td>&lt;a href=\"https://mobile.twitter.com\" rel=\"nofo...</td>\n",
       "      <td>False</td>\n",
       "      <td>None</td>\n",
       "      <td>...</td>\n",
       "      <td>NaN</td>\n",
       "      <td>2015-07-24 08:23:34+00:00</td>\n",
       "      <td>{'iso_language_code': 'en', 'result_type': 're...</td>\n",
       "      <td>0</td>\n",
       "      <td>624495124148391936</td>\n",
       "      <td>624495124148391936</td>\n",
       "      <td>NaN</td>\n",
       "      <td>NaN</td>\n",
       "      <td>NaN</td>\n",
       "      <td>NaN</td>\n",
       "    </tr>\n",
       "  </tbody>\n",
       "</table>\n",
       "<p>5 rows × 28 columns</p>\n",
       "</div>"
      ],
      "text/plain": [
       "   contributors coordinates  \\\n",
       "0           NaN        None   \n",
       "1           NaN        None   \n",
       "2           NaN        None   \n",
       "3           NaN        None   \n",
       "4           NaN        None   \n",
       "\n",
       "                                                text  \\\n",
       "0  #FollowFriday @France_Inte @PKuchly57 @Milipol...   \n",
       "1  @Lamb2ja Hey James! How odd :/ Please call our...   \n",
       "2  @DespiteOfficial we had a listen last night :)...   \n",
       "3                               @97sides CONGRATS :)   \n",
       "4  yeaaaah yippppy!!!  my accnt verified rqst has...   \n",
       "\n",
       "                                                user  retweet_count  \\\n",
       "0  {'time_zone': 'Paris', 'profile_background_ima...              0   \n",
       "1  {'time_zone': 'London', 'profile_background_im...              0   \n",
       "2  {'time_zone': 'Casablanca', 'profile_backgroun...              0   \n",
       "3  {'time_zone': 'Paris', 'profile_background_ima...              0   \n",
       "4  {'time_zone': None, 'profile_background_image_...              0   \n",
       "\n",
       "   favorited                                           entities  \\\n",
       "0      False  {'hashtags': [{'indices': [0, 13], 'text': 'Fo...   \n",
       "1      False  {'hashtags': [], 'user_mentions': [{'screen_na...   \n",
       "2      False  {'hashtags': [], 'user_mentions': [{'screen_na...   \n",
       "3      False  {'hashtags': [], 'user_mentions': [{'screen_na...   \n",
       "4      False  {'hashtags': [], 'user_mentions': [], 'urls': ...   \n",
       "\n",
       "                                              source  truncated   geo  ...  \\\n",
       "0  <a href=\"https://commun.it\" rel=\"nofollow\">Com...      False  None  ...   \n",
       "1  <a href=\"http://twitter.com\" rel=\"nofollow\">Tw...      False  None  ...   \n",
       "2  <a href=\"http://twitter.com\" rel=\"nofollow\">Tw...      False  None  ...   \n",
       "3  <a href=\"http://twitter.com/download/iphone\" r...      False  None  ...   \n",
       "4  <a href=\"https://mobile.twitter.com\" rel=\"nofo...      False  None  ...   \n",
       "\n",
       "   in_reply_to_user_id                created_at  \\\n",
       "0                  NaN 2015-07-24 08:23:36+00:00   \n",
       "1           19458835.0 2015-07-24 08:23:35+00:00   \n",
       "2          275918243.0 2015-07-24 08:23:35+00:00   \n",
       "3          774644509.0 2015-07-24 08:23:35+00:00   \n",
       "4                  NaN 2015-07-24 08:23:34+00:00   \n",
       "\n",
       "                                            metadata favorite_count  \\\n",
       "0  {'iso_language_code': 'en', 'result_type': 're...              0   \n",
       "1  {'iso_language_code': 'en', 'result_type': 're...              0   \n",
       "2  {'iso_language_code': 'en', 'result_type': 're...              0   \n",
       "3  {'iso_language_code': 'en', 'result_type': 're...              0   \n",
       "4  {'iso_language_code': 'en', 'result_type': 're...              0   \n",
       "\n",
       "               id_str                  id possibly_sensitive  \\\n",
       "0  624495129303351296  624495129303351296                NaN   \n",
       "1  624495128510656512  624495128510656513                NaN   \n",
       "2  624495126535106560  624495126535106560                NaN   \n",
       "3  624495126170238976  624495126170238976                NaN   \n",
       "4  624495124148391936  624495124148391936                NaN   \n",
       "\n",
       "   quoted_status_id  quoted_status quoted_status_id_str  \n",
       "0               NaN            NaN                  NaN  \n",
       "1               NaN            NaN                  NaN  \n",
       "2               NaN            NaN                  NaN  \n",
       "3               NaN            NaN                  NaN  \n",
       "4               NaN            NaN                  NaN  \n",
       "\n",
       "[5 rows x 28 columns]"
      ]
     },
     "execution_count": 21,
     "metadata": {},
     "output_type": "execute_result"
    }
   ],
   "source": [
    "positive_tweets.head()"
   ]
  },
  {
   "cell_type": "code",
   "execution_count": null,
   "metadata": {},
   "outputs": [],
   "source": []
  },
  {
   "cell_type": "code",
   "execution_count": 22,
   "metadata": {},
   "outputs": [],
   "source": [
    "size_of_positive = positive_tweets.shape\n",
    "size_of_negative = negative_tweets.shape\n"
   ]
  },
  {
   "cell_type": "code",
   "execution_count": 23,
   "metadata": {},
   "outputs": [],
   "source": [
    "import matplotlib.pyplot as plt"
   ]
  },
  {
   "cell_type": "code",
   "execution_count": 24,
   "metadata": {},
   "outputs": [
    {
     "data": {
      "text/plain": [
       "([<matplotlib.axis.XTick at 0x200e4c17e50>,\n",
       "  <matplotlib.axis.XTick at 0x200e4c17e20>],\n",
       " [Text(0, 0, 'size_of_positive'), Text(1, 0, 'size_of_negative')])"
      ]
     },
     "execution_count": 24,
     "metadata": {},
     "output_type": "execute_result"
    },
    {
     "data": {
      "image/png": "[encoded data removed]",
      "text/plain": [
       "<Figure size 432x288 with 1 Axes>"
      ]
     },
     "metadata": {
      "needs_background": "light"
     },
     "output_type": "display_data"
    }
   ],
   "source": [
    "values = np.arange(2)\n",
    "plt.bar(values, height=[size_of_positive[0], size_of_negative[0]], align='center', linewidth=2, edgecolor='k')\n",
    "plt.xticks(values, ['size_of_positive', 'size_of_negative'])"
   ]
  },
  {
   "cell_type": "code",
   "execution_count": 62,
   "metadata": {},
   "outputs": [
    {
     "data": {
      "text/html": [
       "<div>\n",
       "<style scoped>\n",
       "    .dataframe tbody tr th:only-of-type {\n",
       "        vertical-align: middle;\n",
       "    }\n",
       "\n",
       "    .dataframe tbody tr th {\n",
       "        vertical-align: top;\n",
       "    }\n",
       "\n",
       "    .dataframe thead th {\n",
       "        text-align: right;\n",
       "    }\n",
       "</style>\n",
       "<table border=\"1\" class=\"dataframe\">\n",
       "  <thead>\n",
       "    <tr style=\"text-align: right;\">\n",
       "      <th></th>\n",
       "      <th>text</th>\n",
       "    </tr>\n",
       "  </thead>\n",
       "  <tbody>\n",
       "    <tr>\n",
       "      <th>0</th>\n",
       "      <td>#FollowFriday @France_Inte @PKuchly57 @Milipol...</td>\n",
       "    </tr>\n",
       "    <tr>\n",
       "      <th>1</th>\n",
       "      <td>@Lamb2ja Hey James! How odd :/ Please call our...</td>\n",
       "    </tr>\n",
       "    <tr>\n",
       "      <th>2</th>\n",
       "      <td>@DespiteOfficial we had a listen last night :)...</td>\n",
       "    </tr>\n",
       "    <tr>\n",
       "      <th>3</th>\n",
       "      <td>@97sides CONGRATS :)</td>\n",
       "    </tr>\n",
       "    <tr>\n",
       "      <th>4</th>\n",
       "      <td>yeaaaah yippppy!!!  my accnt verified rqst has...</td>\n",
       "    </tr>\n",
       "  </tbody>\n",
       "</table>\n",
       "</div>"
      ],
      "text/plain": [
       "                                                text\n",
       "0  #FollowFriday @France_Inte @PKuchly57 @Milipol...\n",
       "1  @Lamb2ja Hey James! How odd :/ Please call our...\n",
       "2  @DespiteOfficial we had a listen last night :)...\n",
       "3                               @97sides CONGRATS :)\n",
       "4  yeaaaah yippppy!!!  my accnt verified rqst has..."
      ]
     },
     "execution_count": 62,
     "metadata": {},
     "output_type": "execute_result"
    }
   ],
   "source": [
    "positive = positive_tweets[['text']].copy()\n",
    "negative = negative_tweets[['text']].copy()\n",
    "\n",
    "\n",
    "positive.head()"
   ]
  },
  {
   "cell_type": "code",
   "execution_count": 63,
   "metadata": {},
   "outputs": [],
   "source": [
    "positive.loc[:, 'sentiment'] = 1\n",
    "negative.loc[:, 'sentiment'] = 0"
   ]
  },
  {
   "cell_type": "markdown",
   "metadata": {},
   "source": [
    "Tweet preprocessing."
   ]
  },
  {
   "cell_type": "markdown",
   "metadata": {},
   "source": [
    "Build vocabulary."
   ]
  },
  {
   "cell_type": "code",
   "execution_count": 133,
   "metadata": {},
   "outputs": [],
   "source": [
    "def build_vocabulary(text):\n",
    "    vocabulary = {}\n",
    "    for value in text.split(' '):\n",
    "        if value in vocabulary:\n",
    "            vocabulary[value] += 1\n",
    "        else:\n",
    "            vocabulary[value] = 0\n",
    "            \n",
    "    return vocabulary\n"
   ]
  },
  {
   "cell_type": "code",
   "execution_count": 137,
   "metadata": {},
   "outputs": [
    {
     "name": "stdout",
     "output_type": "stream",
     "text": [
      "14539\n"
     ]
    }
   ],
   "source": [
    "joined_pos = \" \".join(positive.text.values)\n",
    "pos_vocabulary = build_vocabulary(joined_pos)\n",
    "\n",
    "pos_sorted_by_occurences = {k: v for k, v in sorted(pos_vocabulary.items(), key=lambda item: item[1], reverse=True)}\n",
    "print(len(sorted_by_occurences))"
   ]
  },
  {
   "cell_type": "code",
   "execution_count": 151,
   "metadata": {},
   "outputs": [
    {
     "name": "stdout",
     "output_type": "stream",
     "text": [
      "14539\n"
     ]
    }
   ],
   "source": [
    "joined_neg = \" \".join(negative.text.values)\n",
    "neg_vocabulary = build_vocabulary(joined_neg)\n",
    "\n",
    "\n",
    "neg_sorted_by_occurences = {k: v for k, v in sorted(neg_vocabulary.items(), key=lambda item: item[1], reverse=True)}\n",
    "print(len(sorted_by_occurences))"
   ]
  },
  {
   "cell_type": "code",
   "execution_count": 152,
   "metadata": {},
   "outputs": [
    {
     "data": {
      "text/plain": [
       "([<matplotlib.axis.XTick at 0x200e27b5580>,\n",
       "  <matplotlib.axis.XTick at 0x200e27b5550>],\n",
       " [Text(0, 0, 'pos_term_size'), Text(1, 0, 'neg_term_size')])"
      ]
     },
     "execution_count": 152,
     "metadata": {},
     "output_type": "execute_result"
    },
    {
     "data": {
      "image/png": "[encoded data removed]",
      "text/plain": [
       "<Figure size 432x288 with 1 Axes>"
      ]
     },
     "metadata": {
      "needs_background": "light"
     },
     "output_type": "display_data"
    }
   ],
   "source": [
    "lengths = (len(pos_sorted_by_occurences), len(neg_sorted_by_occurences))\n",
    "plt.bar(np.arange(len(lengths)), height=lengths)\n",
    "plt.xticks(np.arange(len(lengths)), ['pos_term_size', 'neg_term_size'])"
   ]
  },
  {
   "cell_type": "code",
   "execution_count": 162,
   "metadata": {},
   "outputs": [],
   "source": [
    "def plot_occurences_of_terms(sorted_dict, n):\n",
    "    keys = list(sorted_dict.keys())[:n]\n",
    "    values = list(sorted_dict.values())[:n]\n",
    "    \n",
    "    ids = np.arange(len(keys))\n",
    "    plt.bar(ids, height=values, width=0.2)\n",
    "    plt.xticks(ids, keys)\n",
    "        \n",
    "\n",
    "\n"
   ]
  },
  {
   "cell_type": "code",
   "execution_count": 161,
   "metadata": {},
   "outputs": [
    {
     "data": {
      "image/png": "[encoded data removed]",
      "text/plain": [
       "<Figure size 432x288 with 1 Axes>"
      ]
     },
     "metadata": {
      "needs_background": "light"
     },
     "output_type": "display_data"
    }
   ],
   "source": [
    "plot_occurences_of_terms(pos_sorted_by_occurences, 10)"
   ]
  },
  {
   "cell_type": "code",
   "execution_count": 163,
   "metadata": {},
   "outputs": [
    {
     "data": {
      "image/png": "[encoded data removed]",
      "text/plain": [
       "<Figure size 432x288 with 1 Axes>"
      ]
     },
     "metadata": {
      "needs_background": "light"
     },
     "output_type": "display_data"
    }
   ],
   "source": [
    "plot_occurences_of_terms(neg_sorted_by_occurences, 10)"
   ]
  },
  {
   "cell_type": "markdown",
   "metadata": {},
   "source": [
    "Representation as TF = term frequency. In this approach we are going to learn len(V) parameters, which is quite unefficient. Every tweet will be represented as vector with few values >= 1 and a lot 0. ..Sparse matrix."
   ]
  },
  {
   "cell_type": "code",
   "execution_count": null,
   "metadata": {},
   "outputs": [],
   "source": []
  },
  {
   "cell_type": "code",
   "execution_count": null,
   "metadata": {},
   "outputs": [],
   "source": [
    "Representation as sum of positive vs negative. Kind of approach where we are going to reduce \n",
    "dimension of V to dimension of 3. [bia, freq(pos), freq(neg)]. Our vocabulary has key as word and\n",
    "dimension of 2. Where every key (word) has discrete number value describing occurences in positive\n",
    "tweet and opossite negative tweet."
   ]
  }
 ],
 "metadata": {
  "kernelspec": {
   "display_name": "Python 3",
   "language": "python",
   "name": "python3"
  },
  "language_info": {
   "codemirror_mode": {
    "name": "ipython",
    "version": 3
   },
   "file_extension": ".py",
   "mimetype": "text/x-python",
   "name": "python",
   "nbconvert_exporter": "python",
   "pygments_lexer": "ipython3",
   "version": "3.8.1"
  }
 },
 "nbformat": 4,
 "nbformat_minor": 4
}
