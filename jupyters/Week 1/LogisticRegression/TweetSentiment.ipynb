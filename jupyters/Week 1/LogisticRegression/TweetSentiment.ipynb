{
 "cells": [
  {
   "cell_type": "markdown",
   "metadata": {},
   "source": [
    "https://www.coursera.org/learn/classification-vector-spaces-in-nlp/lecture/dDdRc/welcome-to-the-nlp-specialization\n",
    "\n",
    "Course on NLP on coursera\n",
    "\n",
    "Kind of sentiment analysis and introduction to representation of text as vectors.\n",
    "\n",
    "\"Learn to extract features from text into numerical vectors, then build a binary classifier for tweets using a logistic regression!\"\n",
    "\n",
    "[data-set] = http://www.nltk.org/howto/twitter.html#corpus_reader\n"
   ]
  },
  {
   "cell_type": "code",
   "execution_count": 1,
   "metadata": {},
   "outputs": [],
   "source": [
    "# import nltk\n",
    "# nltk.download('twitter_samples')"
   ]
  },
  {
   "cell_type": "markdown",
   "metadata": {},
   "source": [
    "Data set was inserted to repository itself (more precisely to folder named 'DataSets'). If will be some problem then download data set with commented code above this cell. Then you should has correct path as u can see few cells bellow (variable named path_to_dataset).\n"
   ]
  },
  {
   "cell_type": "code",
   "execution_count": 165,
   "metadata": {},
   "outputs": [],
   "source": [
    "import numpy as np\n",
    "import pandas as pd\n",
    "from nltk.corpus import twitter_samples\n",
    "import os"
   ]
  },
  {
   "cell_type": "code",
   "execution_count": 166,
   "metadata": {},
   "outputs": [
    {
     "data": {
      "text/plain": [
       "['negative_tweets.json', 'positive_tweets.json', 'tweets.20150430-223406.json']"
      ]
     },
     "execution_count": 166,
     "metadata": {},
     "output_type": "execute_result"
    }
   ],
   "source": [
    "twitter_samples.fileids()"
   ]
  },
  {
   "cell_type": "code",
   "execution_count": 167,
   "metadata": {},
   "outputs": [
    {
     "name": "stdout",
     "output_type": "stream",
     "text": [
      "C:\\Users\\Vojta\\Desktop\\own\\university\\ing\\projects\\seminar\\analysis\\jupyters\\Week 1\\LogisticRegression\n"
     ]
    }
   ],
   "source": [
    "print(os.getcwd())"
   ]
  },
  {
   "cell_type": "code",
   "execution_count": 177,
   "metadata": {},
   "outputs": [],
   "source": [
    "path_to_dataset = '..\\\\..\\\\DataSets\\\\Tweets\\\\'"
   ]
  },
  {
   "cell_type": "code",
   "execution_count": 179,
   "metadata": {},
   "outputs": [],
   "source": [
    "name_of_negative = 'negative_tweets.json'\n",
    "negative_tweets = pd.read_json(f'{path_to_dataset}{name_of_negative}', lines=True)"
   ]
  },
  {
   "cell_type": "code",
   "execution_count": 180,
   "metadata": {},
   "outputs": [],
   "source": [
    "name_of_positive = 'positive_tweets.json' \n",
    "positive_tweets = pd.read_json(f'{path_to_dataset}{name_of_positive}', lines=True)"
   ]
  },
  {
   "cell_type": "markdown",
   "metadata": {},
   "source": [
    "Raw data loaded from json. These are negative tweets. "
   ]
  },
  {
   "cell_type": "code",
   "execution_count": 181,
   "metadata": {},
   "outputs": [
    {
     "data": {
      "text/html": [
       "<div>\n",
       "<style scoped>\n",
       "    .dataframe tbody tr th:only-of-type {\n",
       "        vertical-align: middle;\n",
       "    }\n",
       "\n",
       "    .dataframe tbody tr th {\n",
       "        vertical-align: top;\n",
       "    }\n",
       "\n",
       "    .dataframe thead th {\n",
       "        text-align: right;\n",
       "    }\n",
       "</style>\n",
       "<table border=\"1\" class=\"dataframe\">\n",
       "  <thead>\n",
       "    <tr style=\"text-align: right;\">\n",
       "      <th></th>\n",
       "      <th>contributors</th>\n",
       "      <th>coordinates</th>\n",
       "      <th>text</th>\n",
       "      <th>user</th>\n",
       "      <th>retweet_count</th>\n",
       "      <th>favorited</th>\n",
       "      <th>entities</th>\n",
       "      <th>source</th>\n",
       "      <th>truncated</th>\n",
       "      <th>geo</th>\n",
       "      <th>...</th>\n",
       "      <th>in_reply_to_user_id</th>\n",
       "      <th>created_at</th>\n",
       "      <th>metadata</th>\n",
       "      <th>favorite_count</th>\n",
       "      <th>id_str</th>\n",
       "      <th>id</th>\n",
       "      <th>quoted_status</th>\n",
       "      <th>quoted_status_id</th>\n",
       "      <th>possibly_sensitive</th>\n",
       "      <th>quoted_status_id_str</th>\n",
       "    </tr>\n",
       "  </thead>\n",
       "  <tbody>\n",
       "    <tr>\n",
       "      <th>0</th>\n",
       "      <td>NaN</td>\n",
       "      <td>None</td>\n",
       "      <td>hopeless for tmr :(</td>\n",
       "      <td>{'screen_name': 'yuwraxkim', 'time_zone': 'Jak...</td>\n",
       "      <td>0</td>\n",
       "      <td>False</td>\n",
       "      <td>{'hashtags': [], 'user_mentions': [], 'urls': ...</td>\n",
       "      <td>&lt;a href=\"https://mobile.twitter.com\" rel=\"nofo...</td>\n",
       "      <td>False</td>\n",
       "      <td>None</td>\n",
       "      <td>...</td>\n",
       "      <td>NaN</td>\n",
       "      <td>2015-07-24 10:42:49+00:00</td>\n",
       "      <td>{'iso_language_code': 'en', 'result_type': 're...</td>\n",
       "      <td>0</td>\n",
       "      <td>624530164626534400</td>\n",
       "      <td>624530164626534400</td>\n",
       "      <td>NaN</td>\n",
       "      <td>NaN</td>\n",
       "      <td>NaN</td>\n",
       "      <td>NaN</td>\n",
       "    </tr>\n",
       "    <tr>\n",
       "      <th>1</th>\n",
       "      <td>NaN</td>\n",
       "      <td>None</td>\n",
       "      <td>Everything in the kids section of IKEA is so c...</td>\n",
       "      <td>{'screen_name': 'EveHollyHousley', 'time_zone'...</td>\n",
       "      <td>0</td>\n",
       "      <td>False</td>\n",
       "      <td>{'hashtags': [], 'user_mentions': [], 'urls': ...</td>\n",
       "      <td>&lt;a href=\"http://twitter.com/download/iphone\" r...</td>\n",
       "      <td>False</td>\n",
       "      <td>None</td>\n",
       "      <td>...</td>\n",
       "      <td>NaN</td>\n",
       "      <td>2015-07-24 10:42:48+00:00</td>\n",
       "      <td>{'iso_language_code': 'en', 'result_type': 're...</td>\n",
       "      <td>0</td>\n",
       "      <td>624530162890219520</td>\n",
       "      <td>624530162890219521</td>\n",
       "      <td>NaN</td>\n",
       "      <td>NaN</td>\n",
       "      <td>NaN</td>\n",
       "      <td>NaN</td>\n",
       "    </tr>\n",
       "    <tr>\n",
       "      <th>2</th>\n",
       "      <td>NaN</td>\n",
       "      <td>None</td>\n",
       "      <td>@Hegelbon That heart sliding into the waste ba...</td>\n",
       "      <td>{'screen_name': 'prostgrad', 'time_zone': 'Ath...</td>\n",
       "      <td>0</td>\n",
       "      <td>False</td>\n",
       "      <td>{'hashtags': [], 'user_mentions': [{'id_str': ...</td>\n",
       "      <td>&lt;a href=\"http://twitter.com\" rel=\"nofollow\"&gt;Tw...</td>\n",
       "      <td>False</td>\n",
       "      <td>None</td>\n",
       "      <td>...</td>\n",
       "      <td>1.633281e+09</td>\n",
       "      <td>2015-07-24 10:42:48+00:00</td>\n",
       "      <td>{'iso_language_code': 'en', 'result_type': 're...</td>\n",
       "      <td>1</td>\n",
       "      <td>624530162600812544</td>\n",
       "      <td>624530162600812544</td>\n",
       "      <td>NaN</td>\n",
       "      <td>NaN</td>\n",
       "      <td>NaN</td>\n",
       "      <td>NaN</td>\n",
       "    </tr>\n",
       "    <tr>\n",
       "      <th>3</th>\n",
       "      <td>NaN</td>\n",
       "      <td>None</td>\n",
       "      <td>“@ketchBurning: I hate Japanese call him \"bani...</td>\n",
       "      <td>{'screen_name': 'burningyoppy', 'time_zone': '...</td>\n",
       "      <td>0</td>\n",
       "      <td>False</td>\n",
       "      <td>{'hashtags': [], 'user_mentions': [{'id_str': ...</td>\n",
       "      <td>&lt;a href=\"http://twitter.com/download/iphone\" r...</td>\n",
       "      <td>False</td>\n",
       "      <td>None</td>\n",
       "      <td>...</td>\n",
       "      <td>2.185486e+08</td>\n",
       "      <td>2015-07-24 10:42:48+00:00</td>\n",
       "      <td>{'iso_language_code': 'en', 'result_type': 're...</td>\n",
       "      <td>0</td>\n",
       "      <td>624530161011048448</td>\n",
       "      <td>624530161011048448</td>\n",
       "      <td>NaN</td>\n",
       "      <td>NaN</td>\n",
       "      <td>NaN</td>\n",
       "      <td>NaN</td>\n",
       "    </tr>\n",
       "    <tr>\n",
       "      <th>4</th>\n",
       "      <td>NaN</td>\n",
       "      <td>None</td>\n",
       "      <td>Dang starting next week I have \"work\" :(</td>\n",
       "      <td>{'screen_name': '3angiefalangie', 'time_zone':...</td>\n",
       "      <td>0</td>\n",
       "      <td>False</td>\n",
       "      <td>{'hashtags': [], 'user_mentions': [], 'urls': ...</td>\n",
       "      <td>&lt;a href=\"http://twitter.com/download/iphone\" r...</td>\n",
       "      <td>False</td>\n",
       "      <td>None</td>\n",
       "      <td>...</td>\n",
       "      <td>NaN</td>\n",
       "      <td>2015-07-24 10:42:47+00:00</td>\n",
       "      <td>{'iso_language_code': 'en', 'result_type': 're...</td>\n",
       "      <td>0</td>\n",
       "      <td>624530159928934400</td>\n",
       "      <td>624530159928934400</td>\n",
       "      <td>NaN</td>\n",
       "      <td>NaN</td>\n",
       "      <td>NaN</td>\n",
       "      <td>NaN</td>\n",
       "    </tr>\n",
       "  </tbody>\n",
       "</table>\n",
       "<p>5 rows × 28 columns</p>\n",
       "</div>"
      ],
      "text/plain": [
       "   contributors coordinates  \\\n",
       "0           NaN        None   \n",
       "1           NaN        None   \n",
       "2           NaN        None   \n",
       "3           NaN        None   \n",
       "4           NaN        None   \n",
       "\n",
       "                                                text  \\\n",
       "0                                hopeless for tmr :(   \n",
       "1  Everything in the kids section of IKEA is so c...   \n",
       "2  @Hegelbon That heart sliding into the waste ba...   \n",
       "3  “@ketchBurning: I hate Japanese call him \"bani...   \n",
       "4           Dang starting next week I have \"work\" :(   \n",
       "\n",
       "                                                user  retweet_count  \\\n",
       "0  {'screen_name': 'yuwraxkim', 'time_zone': 'Jak...              0   \n",
       "1  {'screen_name': 'EveHollyHousley', 'time_zone'...              0   \n",
       "2  {'screen_name': 'prostgrad', 'time_zone': 'Ath...              0   \n",
       "3  {'screen_name': 'burningyoppy', 'time_zone': '...              0   \n",
       "4  {'screen_name': '3angiefalangie', 'time_zone':...              0   \n",
       "\n",
       "   favorited                                           entities  \\\n",
       "0      False  {'hashtags': [], 'user_mentions': [], 'urls': ...   \n",
       "1      False  {'hashtags': [], 'user_mentions': [], 'urls': ...   \n",
       "2      False  {'hashtags': [], 'user_mentions': [{'id_str': ...   \n",
       "3      False  {'hashtags': [], 'user_mentions': [{'id_str': ...   \n",
       "4      False  {'hashtags': [], 'user_mentions': [], 'urls': ...   \n",
       "\n",
       "                                              source  truncated   geo  ...  \\\n",
       "0  <a href=\"https://mobile.twitter.com\" rel=\"nofo...      False  None  ...   \n",
       "1  <a href=\"http://twitter.com/download/iphone\" r...      False  None  ...   \n",
       "2  <a href=\"http://twitter.com\" rel=\"nofollow\">Tw...      False  None  ...   \n",
       "3  <a href=\"http://twitter.com/download/iphone\" r...      False  None  ...   \n",
       "4  <a href=\"http://twitter.com/download/iphone\" r...      False  None  ...   \n",
       "\n",
       "   in_reply_to_user_id                created_at  \\\n",
       "0                  NaN 2015-07-24 10:42:49+00:00   \n",
       "1                  NaN 2015-07-24 10:42:48+00:00   \n",
       "2         1.633281e+09 2015-07-24 10:42:48+00:00   \n",
       "3         2.185486e+08 2015-07-24 10:42:48+00:00   \n",
       "4                  NaN 2015-07-24 10:42:47+00:00   \n",
       "\n",
       "                                            metadata favorite_count  \\\n",
       "0  {'iso_language_code': 'en', 'result_type': 're...              0   \n",
       "1  {'iso_language_code': 'en', 'result_type': 're...              0   \n",
       "2  {'iso_language_code': 'en', 'result_type': 're...              1   \n",
       "3  {'iso_language_code': 'en', 'result_type': 're...              0   \n",
       "4  {'iso_language_code': 'en', 'result_type': 're...              0   \n",
       "\n",
       "               id_str                  id quoted_status  quoted_status_id  \\\n",
       "0  624530164626534400  624530164626534400           NaN               NaN   \n",
       "1  624530162890219520  624530162890219521           NaN               NaN   \n",
       "2  624530162600812544  624530162600812544           NaN               NaN   \n",
       "3  624530161011048448  624530161011048448           NaN               NaN   \n",
       "4  624530159928934400  624530159928934400           NaN               NaN   \n",
       "\n",
       "   possibly_sensitive quoted_status_id_str  \n",
       "0                 NaN                  NaN  \n",
       "1                 NaN                  NaN  \n",
       "2                 NaN                  NaN  \n",
       "3                 NaN                  NaN  \n",
       "4                 NaN                  NaN  \n",
       "\n",
       "[5 rows x 28 columns]"
      ]
     },
     "execution_count": 181,
     "metadata": {},
     "output_type": "execute_result"
    }
   ],
   "source": [
    "negative_tweets.head()"
   ]
  },
  {
   "cell_type": "markdown",
   "metadata": {},
   "source": [
    "Raw positive tweets loaded from json using nltk package."
   ]
  },
  {
   "cell_type": "code",
   "execution_count": 182,
   "metadata": {
    "scrolled": true
   },
   "outputs": [
    {
     "data": {
      "text/html": [
       "<div>\n",
       "<style scoped>\n",
       "    .dataframe tbody tr th:only-of-type {\n",
       "        vertical-align: middle;\n",
       "    }\n",
       "\n",
       "    .dataframe tbody tr th {\n",
       "        vertical-align: top;\n",
       "    }\n",
       "\n",
       "    .dataframe thead th {\n",
       "        text-align: right;\n",
       "    }\n",
       "</style>\n",
       "<table border=\"1\" class=\"dataframe\">\n",
       "  <thead>\n",
       "    <tr style=\"text-align: right;\">\n",
       "      <th></th>\n",
       "      <th>contributors</th>\n",
       "      <th>coordinates</th>\n",
       "      <th>text</th>\n",
       "      <th>user</th>\n",
       "      <th>retweet_count</th>\n",
       "      <th>favorited</th>\n",
       "      <th>entities</th>\n",
       "      <th>source</th>\n",
       "      <th>truncated</th>\n",
       "      <th>geo</th>\n",
       "      <th>...</th>\n",
       "      <th>in_reply_to_user_id</th>\n",
       "      <th>created_at</th>\n",
       "      <th>metadata</th>\n",
       "      <th>favorite_count</th>\n",
       "      <th>id_str</th>\n",
       "      <th>id</th>\n",
       "      <th>possibly_sensitive</th>\n",
       "      <th>quoted_status_id</th>\n",
       "      <th>quoted_status</th>\n",
       "      <th>quoted_status_id_str</th>\n",
       "    </tr>\n",
       "  </thead>\n",
       "  <tbody>\n",
       "    <tr>\n",
       "      <th>0</th>\n",
       "      <td>NaN</td>\n",
       "      <td>None</td>\n",
       "      <td>#FollowFriday @France_Inte @PKuchly57 @Milipol...</td>\n",
       "      <td>{'time_zone': 'Paris', 'profile_background_ima...</td>\n",
       "      <td>0</td>\n",
       "      <td>False</td>\n",
       "      <td>{'hashtags': [{'indices': [0, 13], 'text': 'Fo...</td>\n",
       "      <td>&lt;a href=\"https://commun.it\" rel=\"nofollow\"&gt;Com...</td>\n",
       "      <td>False</td>\n",
       "      <td>None</td>\n",
       "      <td>...</td>\n",
       "      <td>NaN</td>\n",
       "      <td>2015-07-24 08:23:36+00:00</td>\n",
       "      <td>{'iso_language_code': 'en', 'result_type': 're...</td>\n",
       "      <td>0</td>\n",
       "      <td>624495129303351296</td>\n",
       "      <td>624495129303351296</td>\n",
       "      <td>NaN</td>\n",
       "      <td>NaN</td>\n",
       "      <td>NaN</td>\n",
       "      <td>NaN</td>\n",
       "    </tr>\n",
       "    <tr>\n",
       "      <th>1</th>\n",
       "      <td>NaN</td>\n",
       "      <td>None</td>\n",
       "      <td>@Lamb2ja Hey James! How odd :/ Please call our...</td>\n",
       "      <td>{'time_zone': 'London', 'profile_background_im...</td>\n",
       "      <td>0</td>\n",
       "      <td>False</td>\n",
       "      <td>{'hashtags': [], 'user_mentions': [{'screen_na...</td>\n",
       "      <td>&lt;a href=\"http://twitter.com\" rel=\"nofollow\"&gt;Tw...</td>\n",
       "      <td>False</td>\n",
       "      <td>None</td>\n",
       "      <td>...</td>\n",
       "      <td>19458835.0</td>\n",
       "      <td>2015-07-24 08:23:35+00:00</td>\n",
       "      <td>{'iso_language_code': 'en', 'result_type': 're...</td>\n",
       "      <td>0</td>\n",
       "      <td>624495128510656512</td>\n",
       "      <td>624495128510656513</td>\n",
       "      <td>NaN</td>\n",
       "      <td>NaN</td>\n",
       "      <td>NaN</td>\n",
       "      <td>NaN</td>\n",
       "    </tr>\n",
       "    <tr>\n",
       "      <th>2</th>\n",
       "      <td>NaN</td>\n",
       "      <td>None</td>\n",
       "      <td>@DespiteOfficial we had a listen last night :)...</td>\n",
       "      <td>{'time_zone': 'Casablanca', 'profile_backgroun...</td>\n",
       "      <td>0</td>\n",
       "      <td>False</td>\n",
       "      <td>{'hashtags': [], 'user_mentions': [{'screen_na...</td>\n",
       "      <td>&lt;a href=\"http://twitter.com\" rel=\"nofollow\"&gt;Tw...</td>\n",
       "      <td>False</td>\n",
       "      <td>None</td>\n",
       "      <td>...</td>\n",
       "      <td>275918243.0</td>\n",
       "      <td>2015-07-24 08:23:35+00:00</td>\n",
       "      <td>{'iso_language_code': 'en', 'result_type': 're...</td>\n",
       "      <td>0</td>\n",
       "      <td>624495126535106560</td>\n",
       "      <td>624495126535106560</td>\n",
       "      <td>NaN</td>\n",
       "      <td>NaN</td>\n",
       "      <td>NaN</td>\n",
       "      <td>NaN</td>\n",
       "    </tr>\n",
       "    <tr>\n",
       "      <th>3</th>\n",
       "      <td>NaN</td>\n",
       "      <td>None</td>\n",
       "      <td>@97sides CONGRATS :)</td>\n",
       "      <td>{'time_zone': 'Paris', 'profile_background_ima...</td>\n",
       "      <td>0</td>\n",
       "      <td>False</td>\n",
       "      <td>{'hashtags': [], 'user_mentions': [{'screen_na...</td>\n",
       "      <td>&lt;a href=\"http://twitter.com/download/iphone\" r...</td>\n",
       "      <td>False</td>\n",
       "      <td>None</td>\n",
       "      <td>...</td>\n",
       "      <td>774644509.0</td>\n",
       "      <td>2015-07-24 08:23:35+00:00</td>\n",
       "      <td>{'iso_language_code': 'en', 'result_type': 're...</td>\n",
       "      <td>0</td>\n",
       "      <td>624495126170238976</td>\n",
       "      <td>624495126170238976</td>\n",
       "      <td>NaN</td>\n",
       "      <td>NaN</td>\n",
       "      <td>NaN</td>\n",
       "      <td>NaN</td>\n",
       "    </tr>\n",
       "    <tr>\n",
       "      <th>4</th>\n",
       "      <td>NaN</td>\n",
       "      <td>None</td>\n",
       "      <td>yeaaaah yippppy!!!  my accnt verified rqst has...</td>\n",
       "      <td>{'time_zone': None, 'profile_background_image_...</td>\n",
       "      <td>0</td>\n",
       "      <td>False</td>\n",
       "      <td>{'hashtags': [], 'user_mentions': [], 'urls': ...</td>\n",
       "      <td>&lt;a href=\"https://mobile.twitter.com\" rel=\"nofo...</td>\n",
       "      <td>False</td>\n",
       "      <td>None</td>\n",
       "      <td>...</td>\n",
       "      <td>NaN</td>\n",
       "      <td>2015-07-24 08:23:34+00:00</td>\n",
       "      <td>{'iso_language_code': 'en', 'result_type': 're...</td>\n",
       "      <td>0</td>\n",
       "      <td>624495124148391936</td>\n",
       "      <td>624495124148391936</td>\n",
       "      <td>NaN</td>\n",
       "      <td>NaN</td>\n",
       "      <td>NaN</td>\n",
       "      <td>NaN</td>\n",
       "    </tr>\n",
       "  </tbody>\n",
       "</table>\n",
       "<p>5 rows × 28 columns</p>\n",
       "</div>"
      ],
      "text/plain": [
       "   contributors coordinates  \\\n",
       "0           NaN        None   \n",
       "1           NaN        None   \n",
       "2           NaN        None   \n",
       "3           NaN        None   \n",
       "4           NaN        None   \n",
       "\n",
       "                                                text  \\\n",
       "0  #FollowFriday @France_Inte @PKuchly57 @Milipol...   \n",
       "1  @Lamb2ja Hey James! How odd :/ Please call our...   \n",
       "2  @DespiteOfficial we had a listen last night :)...   \n",
       "3                               @97sides CONGRATS :)   \n",
       "4  yeaaaah yippppy!!!  my accnt verified rqst has...   \n",
       "\n",
       "                                                user  retweet_count  \\\n",
       "0  {'time_zone': 'Paris', 'profile_background_ima...              0   \n",
       "1  {'time_zone': 'London', 'profile_background_im...              0   \n",
       "2  {'time_zone': 'Casablanca', 'profile_backgroun...              0   \n",
       "3  {'time_zone': 'Paris', 'profile_background_ima...              0   \n",
       "4  {'time_zone': None, 'profile_background_image_...              0   \n",
       "\n",
       "   favorited                                           entities  \\\n",
       "0      False  {'hashtags': [{'indices': [0, 13], 'text': 'Fo...   \n",
       "1      False  {'hashtags': [], 'user_mentions': [{'screen_na...   \n",
       "2      False  {'hashtags': [], 'user_mentions': [{'screen_na...   \n",
       "3      False  {'hashtags': [], 'user_mentions': [{'screen_na...   \n",
       "4      False  {'hashtags': [], 'user_mentions': [], 'urls': ...   \n",
       "\n",
       "                                              source  truncated   geo  ...  \\\n",
       "0  <a href=\"https://commun.it\" rel=\"nofollow\">Com...      False  None  ...   \n",
       "1  <a href=\"http://twitter.com\" rel=\"nofollow\">Tw...      False  None  ...   \n",
       "2  <a href=\"http://twitter.com\" rel=\"nofollow\">Tw...      False  None  ...   \n",
       "3  <a href=\"http://twitter.com/download/iphone\" r...      False  None  ...   \n",
       "4  <a href=\"https://mobile.twitter.com\" rel=\"nofo...      False  None  ...   \n",
       "\n",
       "   in_reply_to_user_id                created_at  \\\n",
       "0                  NaN 2015-07-24 08:23:36+00:00   \n",
       "1           19458835.0 2015-07-24 08:23:35+00:00   \n",
       "2          275918243.0 2015-07-24 08:23:35+00:00   \n",
       "3          774644509.0 2015-07-24 08:23:35+00:00   \n",
       "4                  NaN 2015-07-24 08:23:34+00:00   \n",
       "\n",
       "                                            metadata favorite_count  \\\n",
       "0  {'iso_language_code': 'en', 'result_type': 're...              0   \n",
       "1  {'iso_language_code': 'en', 'result_type': 're...              0   \n",
       "2  {'iso_language_code': 'en', 'result_type': 're...              0   \n",
       "3  {'iso_language_code': 'en', 'result_type': 're...              0   \n",
       "4  {'iso_language_code': 'en', 'result_type': 're...              0   \n",
       "\n",
       "               id_str                  id possibly_sensitive  \\\n",
       "0  624495129303351296  624495129303351296                NaN   \n",
       "1  624495128510656512  624495128510656513                NaN   \n",
       "2  624495126535106560  624495126535106560                NaN   \n",
       "3  624495126170238976  624495126170238976                NaN   \n",
       "4  624495124148391936  624495124148391936                NaN   \n",
       "\n",
       "   quoted_status_id  quoted_status quoted_status_id_str  \n",
       "0               NaN            NaN                  NaN  \n",
       "1               NaN            NaN                  NaN  \n",
       "2               NaN            NaN                  NaN  \n",
       "3               NaN            NaN                  NaN  \n",
       "4               NaN            NaN                  NaN  \n",
       "\n",
       "[5 rows x 28 columns]"
      ]
     },
     "execution_count": 182,
     "metadata": {},
     "output_type": "execute_result"
    }
   ],
   "source": [
    "positive_tweets.head()"
   ]
  },
  {
   "cell_type": "code",
   "execution_count": 183,
   "metadata": {},
   "outputs": [],
   "source": [
    "size_of_positive = positive_tweets.shape\n",
    "size_of_negative = negative_tweets.shape"
   ]
  },
  {
   "cell_type": "code",
   "execution_count": 184,
   "metadata": {},
   "outputs": [],
   "source": [
    "import matplotlib.pyplot as plt"
   ]
  },
  {
   "cell_type": "markdown",
   "metadata": {},
   "source": [
    "As u see datasets are with equal size. It can be sign of good dataset."
   ]
  },
  {
   "cell_type": "code",
   "execution_count": 185,
   "metadata": {},
   "outputs": [
    {
     "data": {
      "text/plain": [
       "([<matplotlib.axis.XTick at 0x25784844b50>,\n",
       "  <matplotlib.axis.XTick at 0x25784844c70>],\n",
       " [Text(0, 0, 'size_of_positive'), Text(1, 0, 'size_of_negative')])"
      ]
     },
     "execution_count": 185,
     "metadata": {},
     "output_type": "execute_result"
    },
    {
     "data": {
      "image/png": "[encoded data removed]",
      "text/plain": [
       "<Figure size 432x288 with 1 Axes>"
      ]
     },
     "metadata": {
      "needs_background": "light"
     },
     "output_type": "display_data"
    }
   ],
   "source": [
    "values = np.arange(2)\n",
    "plt.bar(values, height=[size_of_positive[0], size_of_negative[0]], align='center', linewidth=2, edgecolor='k')\n",
    "plt.xticks(values, ['size_of_positive', 'size_of_negative'])"
   ]
  },
  {
   "cell_type": "code",
   "execution_count": 186,
   "metadata": {},
   "outputs": [
    {
     "data": {
      "text/html": [
       "<div>\n",
       "<style scoped>\n",
       "    .dataframe tbody tr th:only-of-type {\n",
       "        vertical-align: middle;\n",
       "    }\n",
       "\n",
       "    .dataframe tbody tr th {\n",
       "        vertical-align: top;\n",
       "    }\n",
       "\n",
       "    .dataframe thead th {\n",
       "        text-align: right;\n",
       "    }\n",
       "</style>\n",
       "<table border=\"1\" class=\"dataframe\">\n",
       "  <thead>\n",
       "    <tr style=\"text-align: right;\">\n",
       "      <th></th>\n",
       "      <th>text</th>\n",
       "    </tr>\n",
       "  </thead>\n",
       "  <tbody>\n",
       "    <tr>\n",
       "      <th>0</th>\n",
       "      <td>hopeless for tmr :(</td>\n",
       "    </tr>\n",
       "    <tr>\n",
       "      <th>1</th>\n",
       "      <td>Everything in the kids section of IKEA is so c...</td>\n",
       "    </tr>\n",
       "    <tr>\n",
       "      <th>2</th>\n",
       "      <td>@Hegelbon That heart sliding into the waste ba...</td>\n",
       "    </tr>\n",
       "    <tr>\n",
       "      <th>3</th>\n",
       "      <td>“@ketchBurning: I hate Japanese call him \"bani...</td>\n",
       "    </tr>\n",
       "    <tr>\n",
       "      <th>4</th>\n",
       "      <td>Dang starting next week I have \"work\" :(</td>\n",
       "    </tr>\n",
       "  </tbody>\n",
       "</table>\n",
       "</div>"
      ],
      "text/plain": [
       "                                                text\n",
       "0                                hopeless for tmr :(\n",
       "1  Everything in the kids section of IKEA is so c...\n",
       "2  @Hegelbon That heart sliding into the waste ba...\n",
       "3  “@ketchBurning: I hate Japanese call him \"bani...\n",
       "4           Dang starting next week I have \"work\" :("
      ]
     },
     "execution_count": 186,
     "metadata": {},
     "output_type": "execute_result"
    }
   ],
   "source": [
    "positive = positive_tweets[['text']].copy()\n",
    "negative = negative_tweets[['text']].copy()\n",
    "\n",
    "positive.head()\n",
    "negative.head()"
   ]
  },
  {
   "cell_type": "code",
   "execution_count": 187,
   "metadata": {},
   "outputs": [],
   "source": [
    "positive.loc[:, 'sentiment'] = 1\n",
    "negative.loc[:, 'sentiment'] = 0"
   ]
  },
  {
   "cell_type": "markdown",
   "metadata": {},
   "source": [
    "Tweet preprocessing."
   ]
  },
  {
   "cell_type": "markdown",
   "metadata": {},
   "source": [
    "Build vocabulary."
   ]
  },
  {
   "cell_type": "code",
   "execution_count": 188,
   "metadata": {},
   "outputs": [],
   "source": [
    "def build_vocabulary(text):\n",
    "    vocabulary = {}\n",
    "    for value in text.split(' '):\n",
    "        if value in vocabulary:\n",
    "            vocabulary[value] += 1\n",
    "        else:\n",
    "            vocabulary[value] = 0\n",
    "            \n",
    "    return vocabulary"
   ]
  },
  {
   "cell_type": "code",
   "execution_count": 189,
   "metadata": {},
   "outputs": [],
   "source": [
    "def create_sorted_vocabulary(df):\n",
    "    joined_pos = \" \".join(df.text.values)\n",
    "    pos_vocabulary = build_vocabulary(joined_pos)\n",
    "    pos_sorted_by_occurences = {k: v for k, v in sorted(pos_vocabulary.items(), key=lambda item: item[1], reverse=True)}\n",
    "    return pos_sorted_by_occurences"
   ]
  },
  {
   "cell_type": "code",
   "execution_count": 190,
   "metadata": {},
   "outputs": [
    {
     "name": "stdout",
     "output_type": "stream",
     "text": [
      "17657\n"
     ]
    }
   ],
   "source": [
    "pos_sorted_by_occurences = create_sorted_vocabulary(positive)\n",
    "print(len(pos_sorted_by_occurences))"
   ]
  },
  {
   "cell_type": "code",
   "execution_count": 191,
   "metadata": {},
   "outputs": [
    {
     "name": "stdout",
     "output_type": "stream",
     "text": [
      "14539\n"
     ]
    }
   ],
   "source": [
    "neg_sorted_by_occurences = create_sorted_vocabulary(negative)\n",
    "print(len(neg_sorted_by_occurences))"
   ]
  },
  {
   "cell_type": "code",
   "execution_count": 192,
   "metadata": {},
   "outputs": [
    {
     "data": {
      "text/plain": [
       "([<matplotlib.axis.XTick at 0x2578483e220>,\n",
       "  <matplotlib.axis.XTick at 0x2578483e430>],\n",
       " [Text(0, 0, 'pos_term_size'), Text(1, 0, 'neg_term_size')])"
      ]
     },
     "execution_count": 192,
     "metadata": {},
     "output_type": "execute_result"
    },
    {
     "data": {
      "image/png": "[encoded data removed]",
      "text/plain": [
       "<Figure size 432x288 with 1 Axes>"
      ]
     },
     "metadata": {
      "needs_background": "light"
     },
     "output_type": "display_data"
    }
   ],
   "source": [
    "lengths = (len(pos_sorted_by_occurences), len(neg_sorted_by_occurences))\n",
    "plt.bar(np.arange(len(lengths)), height=lengths)\n",
    "plt.xticks(np.arange(len(lengths)), ['pos_term_size', 'neg_term_size'])"
   ]
  },
  {
   "cell_type": "code",
   "execution_count": 193,
   "metadata": {},
   "outputs": [],
   "source": [
    "def plot_occurences_of_terms(sorted_dict, n):\n",
    "    keys = list(sorted_dict.keys())[:n]\n",
    "    values = list(sorted_dict.values())[:n]\n",
    "    \n",
    "    ids = np.arange(len(keys))\n",
    "    plt.bar(ids, height=values, width=0.2)\n",
    "    plt.xticks(ids, keys)"
   ]
  },
  {
   "cell_type": "code",
   "execution_count": 194,
   "metadata": {},
   "outputs": [
    {
     "data": {
      "image/png": "[encoded data removed]",
      "text/plain": [
       "<Figure size 432x288 with 1 Axes>"
      ]
     },
     "metadata": {
      "needs_background": "light"
     },
     "output_type": "display_data"
    }
   ],
   "source": [
    "plot_occurences_of_terms(pos_sorted_by_occurences, 10)"
   ]
  },
  {
   "cell_type": "code",
   "execution_count": 195,
   "metadata": {},
   "outputs": [
    {
     "data": {
      "image/png": "[encoded data removed]",
      "text/plain": [
       "<Figure size 432x288 with 1 Axes>"
      ]
     },
     "metadata": {
      "needs_background": "light"
     },
     "output_type": "display_data"
    }
   ],
   "source": [
    "plot_occurences_of_terms(neg_sorted_by_occurences, 10)"
   ]
  },
  {
   "cell_type": "code",
   "execution_count": 196,
   "metadata": {},
   "outputs": [],
   "source": [
    "import nltk\n",
    "from nltk.corpus import stopwords\n",
    "from nltk.stem import PorterStemmer\n",
    "from nltk.tokenize import TweetTokenizer\n",
    "import string\n",
    "import re"
   ]
  },
  {
   "cell_type": "code",
   "execution_count": 197,
   "metadata": {},
   "outputs": [],
   "source": [
    "def regex_clean(tweet):\n",
    "    tweet = re.sub(r'^RT[\\s]+', '', tweet)\n",
    "    tweet = re.sub(r'https?:\\/\\/.*[\\r\\n]*', '', tweet) #urls\n",
    "    tweet = re.sub(r'#', '', tweet) #hashtahs\n",
    "    tweet = re.sub(r'@(\\w)*', '', tweet) # users\n",
    "    return tweet"
   ]
  },
  {
   "cell_type": "code",
   "execution_count": 198,
   "metadata": {},
   "outputs": [
    {
     "name": "stdout",
     "output_type": "stream",
     "text": [
      "False\n",
      "True\n",
      "!\"#$%&'()*+,-./:;<=>?@[\\]^_`{|}~\n",
      "#FollowFriday @France_Inte @PKuchly57 @Milipol_Paris for being top engaged members in my community this week :)\n"
     ]
    },
    {
     "data": {
      "text/plain": [
       "'followfriday top engag member commun week :)'"
      ]
     },
     "execution_count": 198,
     "metadata": {},
     "output_type": "execute_result"
    }
   ],
   "source": [
    "# testing of clean of tweet\n",
    "\n",
    "stopwords_english = stopwords.words('english')\n",
    "# print(stopwords_english) #!: list of stopwords from nltk package\n",
    "\n",
    "print('a' in string.punctuation)\n",
    "print('.' in string.punctuation)\n",
    "print(string.punctuation)\n",
    "\n",
    "def clean_tweet(tweet):\n",
    "    tweet = regex_clean(tweet)    \n",
    "    tokenizer = TweetTokenizer()\n",
    "    tweet_tokenized = tokenizer.tokenize(tweet)\n",
    "    tweet_tokenized = [word.lower() for word in tweet_tokenized if word not in stopwords_english and word not in string.punctuation] \n",
    "    stemmer = PorterStemmer()\n",
    "    tweet_tokenized = [stemmer.stem(word) for word in tweet_tokenized]\n",
    "    return \" \".join(tweet_tokenized)\n",
    "\n",
    "\n",
    "\n",
    "test_tweet = positive.loc[0, :]\n",
    "print(test_tweet.text)\n",
    "clean_tweet(test_tweet.text)"
   ]
  },
  {
   "cell_type": "code",
   "execution_count": 199,
   "metadata": {},
   "outputs": [
    {
     "name": "stdout",
     "output_type": "stream",
     "text": [
      "6734\n",
      "6580\n"
     ]
    }
   ],
   "source": [
    "cleaned_pos = positive.text.map(clean_tweet)\n",
    "cleaned_neg = negative.text.map(clean_tweet)\n",
    "\n",
    "positive['text'] = cleaned_pos \n",
    "negative['text'] =  cleaned_neg\n",
    "\n",
    "pos_dict = create_sorted_vocabulary(positive)\n",
    "neg_dict = create_sorted_vocabulary(negative)\n",
    "\n",
    "print(len(pos_dict))\n",
    "print(len(neg_dict))"
   ]
  },
  {
   "cell_type": "code",
   "execution_count": 200,
   "metadata": {},
   "outputs": [
    {
     "data": {
      "image/png": "[encoded data removed]",
      "text/plain": [
       "<Figure size 432x288 with 1 Axes>"
      ]
     },
     "metadata": {
      "needs_background": "light"
     },
     "output_type": "display_data"
    }
   ],
   "source": [
    "plot_occurences_of_terms(pos_dict, 10)"
   ]
  },
  {
   "cell_type": "code",
   "execution_count": 201,
   "metadata": {},
   "outputs": [
    {
     "data": {
      "image/png": "[encoded data removed]",
      "text/plain": [
       "<Figure size 432x288 with 1 Axes>"
      ]
     },
     "metadata": {
      "needs_background": "light"
     },
     "output_type": "display_data"
    }
   ],
   "source": [
    "plot_occurences_of_terms(neg_dict, 10)"
   ]
  },
  {
   "cell_type": "code",
   "execution_count": 202,
   "metadata": {},
   "outputs": [],
   "source": [
    "def factory_iteration(current_dict):\n",
    "    def iteration_map(token):\n",
    "        if token in current_dict:\n",
    "            return current_dict[token]\n",
    "        else:\n",
    "            return 0\n",
    "    return iteration_map\n",
    "\n",
    "\n",
    "def map_call(tweet, current_dict):\n",
    "    result = list(map(factory_iteration(current_dict), tweet.split(' ')))\n",
    "    return result\n",
    "    \n",
    "def information_extraction(tweet):\n",
    "    positive_sum = sum(map_call(tweet, pos_dict))\n",
    "    negative_sum = sum(map_call(tweet, neg_dict))\n",
    "    return np.array([1, positive_sum, negative_sum])"
   ]
  },
  {
   "cell_type": "code",
   "execution_count": 203,
   "metadata": {},
   "outputs": [
    {
     "name": "stdout",
     "output_type": "stream",
     "text": [
      "followfriday top engag member commun week :)\n"
     ]
    },
    {
     "data": {
      "text/plain": [
       "array([   1, 3757,   67])"
      ]
     },
     "execution_count": 203,
     "metadata": {},
     "output_type": "execute_result"
    }
   ],
   "source": [
    "test_values_information_extraction = positive.text.values[0] \n",
    "\n",
    "print(test_values_information_extraction)\n",
    "information_extraction(test_values_information_extraction)"
   ]
  },
  {
   "cell_type": "code",
   "execution_count": 204,
   "metadata": {},
   "outputs": [
    {
     "data": {
      "text/html": [
       "<div>\n",
       "<style scoped>\n",
       "    .dataframe tbody tr th:only-of-type {\n",
       "        vertical-align: middle;\n",
       "    }\n",
       "\n",
       "    .dataframe tbody tr th {\n",
       "        vertical-align: top;\n",
       "    }\n",
       "\n",
       "    .dataframe thead th {\n",
       "        text-align: right;\n",
       "    }\n",
       "</style>\n",
       "<table border=\"1\" class=\"dataframe\">\n",
       "  <thead>\n",
       "    <tr style=\"text-align: right;\">\n",
       "      <th></th>\n",
       "      <th>text</th>\n",
       "      <th>sentiment</th>\n",
       "    </tr>\n",
       "  </thead>\n",
       "  <tbody>\n",
       "    <tr>\n",
       "      <th>0</th>\n",
       "      <td>followfriday top engag member commun week :)</td>\n",
       "      <td>1</td>\n",
       "    </tr>\n",
       "    <tr>\n",
       "      <th>1</th>\n",
       "      <td>hey jame how odd :/ pleas call contact centr 0...</td>\n",
       "      <td>1</td>\n",
       "    </tr>\n",
       "    <tr>\n",
       "      <th>2</th>\n",
       "      <td>listen last night :) as you bleed amaz track w...</td>\n",
       "      <td>1</td>\n",
       "    </tr>\n",
       "    <tr>\n",
       "      <th>3</th>\n",
       "      <td>congrat :)</td>\n",
       "      <td>1</td>\n",
       "    </tr>\n",
       "    <tr>\n",
       "      <th>4</th>\n",
       "      <td>yeaaaah yippppi accnt verifi rqst succeed got ...</td>\n",
       "      <td>1</td>\n",
       "    </tr>\n",
       "    <tr>\n",
       "      <th>...</th>\n",
       "      <td>...</td>\n",
       "      <td>...</td>\n",
       "    </tr>\n",
       "    <tr>\n",
       "      <th>4995</th>\n",
       "      <td>i wanna chang avi usanel :(</td>\n",
       "      <td>0</td>\n",
       "    </tr>\n",
       "    <tr>\n",
       "      <th>4996</th>\n",
       "      <td>my puppi broke her foot :(</td>\n",
       "      <td>0</td>\n",
       "    </tr>\n",
       "    <tr>\n",
       "      <th>4997</th>\n",
       "      <td>where' jaebum babi pictur :(</td>\n",
       "      <td>0</td>\n",
       "    </tr>\n",
       "    <tr>\n",
       "      <th>4998</th>\n",
       "      <td>but mr ahmad maslan cook :(</td>\n",
       "      <td>0</td>\n",
       "    </tr>\n",
       "    <tr>\n",
       "      <th>4999</th>\n",
       "      <td>as hull support i expect misser week :-(</td>\n",
       "      <td>0</td>\n",
       "    </tr>\n",
       "  </tbody>\n",
       "</table>\n",
       "<p>10000 rows × 2 columns</p>\n",
       "</div>"
      ],
      "text/plain": [
       "                                                   text  sentiment\n",
       "0          followfriday top engag member commun week :)          1\n",
       "1     hey jame how odd :/ pleas call contact centr 0...          1\n",
       "2     listen last night :) as you bleed amaz track w...          1\n",
       "3                                            congrat :)          1\n",
       "4     yeaaaah yippppi accnt verifi rqst succeed got ...          1\n",
       "...                                                 ...        ...\n",
       "4995                        i wanna chang avi usanel :(          0\n",
       "4996                         my puppi broke her foot :(          0\n",
       "4997                       where' jaebum babi pictur :(          0\n",
       "4998                        but mr ahmad maslan cook :(          0\n",
       "4999           as hull support i expect misser week :-(          0\n",
       "\n",
       "[10000 rows x 2 columns]"
      ]
     },
     "execution_count": 204,
     "metadata": {},
     "output_type": "execute_result"
    }
   ],
   "source": [
    "merged = pd.concat([positive, negative])\n",
    "merged"
   ]
  },
  {
   "cell_type": "markdown",
   "metadata": {},
   "source": [
    "# Run bellow cels to show results"
   ]
  },
  {
   "cell_type": "code",
   "execution_count": 205,
   "metadata": {},
   "outputs": [],
   "source": [
    "tweets = merged.text.values\n",
    "\n",
    "X = [information_extraction(tweet) for tweet in tweets]\n",
    "y = merged.sentiment.values\n",
    "\n",
    "n_values = 5\n"
   ]
  },
  {
   "cell_type": "code",
   "execution_count": 206,
   "metadata": {},
   "outputs": [
    {
     "name": "stdout",
     "output_type": "stream",
     "text": [
      "[array([   1, 3757,   67]), array([   1, 4473,  527]), array([   1, 3890,  272]), array([   1, 3587,    2]), array([   1, 3900,  272])]\n",
      "[1 1 1 1 1]\n"
     ]
    }
   ],
   "source": [
    "#POSITIVE\n",
    "print(X[:n_values])\n",
    "print(y[:n_values])"
   ]
  },
  {
   "cell_type": "code",
   "execution_count": 207,
   "metadata": {},
   "outputs": [
    {
     "name": "stdout",
     "output_type": "stream",
     "text": [
      "[array([   1,  940, 6278]), array([   1,   73, 4698]), array([   1,   30, 4635]), array([   1,   41, 4637]), array([   1, 1005, 2169])]\n",
      "[0 0 0 0 0]\n"
     ]
    }
   ],
   "source": [
    "#NEGATIVE\n",
    "print(X[-n_values: len(X)])\n",
    "print(y[-n_values: len(y)])"
   ]
  },
  {
   "cell_type": "code",
   "execution_count": 208,
   "metadata": {},
   "outputs": [],
   "source": [
    "from sklearn.model_selection import train_test_split"
   ]
  },
  {
   "cell_type": "code",
   "execution_count": 209,
   "metadata": {},
   "outputs": [
    {
     "name": "stdout",
     "output_type": "stream",
     "text": [
      "8000\n",
      "2000\n"
     ]
    }
   ],
   "source": [
    "TEST_SIZE_SET = 0.2\n",
    "\n",
    "X_train, X_test, y_train, y_test = train_test_split(X, y, test_size=TEST_SIZE_SET) \n",
    "\n",
    "print(len(X_train))\n",
    "print(len(X_test))"
   ]
  },
  {
   "cell_type": "code",
   "execution_count": 210,
   "metadata": {},
   "outputs": [],
   "source": [
    "def print_score(score):\n",
    "    print(f'Score ->> {score}')"
   ]
  },
  {
   "cell_type": "code",
   "execution_count": 211,
   "metadata": {},
   "outputs": [],
   "source": [
    "from sklearn.linear_model import LogisticRegression"
   ]
  },
  {
   "cell_type": "code",
   "execution_count": 212,
   "metadata": {},
   "outputs": [],
   "source": [
    "clf = LogisticRegression()\n",
    "clf.fit(X_train, y_train)\n",
    "predicted_label = clf.predict(X_test)"
   ]
  },
  {
   "cell_type": "code",
   "execution_count": 213,
   "metadata": {},
   "outputs": [],
   "source": [
    "from sklearn.metrics import accuracy_score"
   ]
  },
  {
   "cell_type": "code",
   "execution_count": 214,
   "metadata": {},
   "outputs": [
    {
     "name": "stdout",
     "output_type": "stream",
     "text": [
      "Score ->> 0.989\n"
     ]
    }
   ],
   "source": [
    "score = accuracy_score(y_test, predicted_label)\n",
    "print_score(score) #good"
   ]
  },
  {
   "cell_type": "markdown",
   "metadata": {},
   "source": [
    "Representation as suma of positive vs negative words in tweet. Kind of approach where we are going to reduce dimension of V to dimension of 3. \n",
    "Example: \n",
    "    [bias, suma(pos), suma(neg)]. \n",
    "Our vocabulary has key as word and\n",
    "dimension of 2. Where every key (word) has discrete number value describing occurences in positive tweet and opossite negative tweet."
   ]
  },
  {
   "cell_type": "markdown",
   "metadata": {},
   "source": [
    "Representation as TF = term frequency. In this approach we are going to learn len(V) parameters, which is quite unefficient. Every tweet will be represented as vector with few values >= 1 and a lot 0. ..Sparse matrix."
   ]
  },
  {
   "cell_type": "code",
   "execution_count": 215,
   "metadata": {},
   "outputs": [],
   "source": [
    "from sklearn.feature_extraction.text import CountVectorizer"
   ]
  },
  {
   "cell_type": "markdown",
   "metadata": {},
   "source": [
    "Learn the vocabulary dictionary and return document-term matrix."
   ]
  },
  {
   "cell_type": "code",
   "execution_count": 216,
   "metadata": {},
   "outputs": [],
   "source": [
    "def custom_predict(vectorizer_instance, corpus):\n",
    "    clf = LogisticRegression()\n",
    "    \n",
    "    X = vectorizer_instance.fit_transform(corpus)\n",
    "    X_train, X_test, y_train, y_test = train_test_split(X, y, test_size = TEST_SIZE_SET)\n",
    "    \n",
    "    clf.fit(X_train, y_train)\n",
    "    predicted_values = clf.predict(X_test)\n",
    "    \n",
    "    score = accuracy_score(y_test, predicted_values)\n",
    "    print_score(score)\n",
    "    return clf\n",
    "    \n",
    "    \n",
    "    \n",
    "    "
   ]
  },
  {
   "cell_type": "code",
   "execution_count": 217,
   "metadata": {},
   "outputs": [
    {
     "name": "stdout",
     "output_type": "stream",
     "text": [
      "Score ->> 0.7485\n"
     ]
    },
    {
     "data": {
      "text/plain": [
       "LogisticRegression()"
      ]
     },
     "execution_count": 217,
     "metadata": {},
     "output_type": "execute_result"
    }
   ],
   "source": [
    "corpus = merged.text.values\n",
    "vectorizer = CountVectorizer()\n",
    "\n",
    "custom_predict(vectorizer, corpus)\n",
    "# vectorizer2 = CountVectorizer(ngram_range=(1,2))"
   ]
  },
  {
   "cell_type": "code",
   "execution_count": 218,
   "metadata": {},
   "outputs": [
    {
     "name": "stdout",
     "output_type": "stream",
     "text": [
      "Score ->> 0.7615\n"
     ]
    },
    {
     "data": {
      "text/plain": [
       "LogisticRegression()"
      ]
     },
     "execution_count": 218,
     "metadata": {},
     "output_type": "execute_result"
    }
   ],
   "source": [
    "from sklearn.feature_extraction.text import TfidfVectorizer\n",
    "\n",
    "tfidf_vectorizer = TfidfVectorizer()\n",
    "custom_predict(tfidf_vectorizer, corpus)"
   ]
  },
  {
   "cell_type": "code",
   "execution_count": 219,
   "metadata": {},
   "outputs": [],
   "source": [
    "NGRAM_RANGE = (1, 5)"
   ]
  },
  {
   "cell_type": "code",
   "execution_count": 220,
   "metadata": {},
   "outputs": [
    {
     "name": "stdout",
     "output_type": "stream",
     "text": [
      "Score ->> 0.7455\n"
     ]
    },
    {
     "data": {
      "text/plain": [
       "LogisticRegression()"
      ]
     },
     "execution_count": 220,
     "metadata": {},
     "output_type": "execute_result"
    }
   ],
   "source": [
    "vectorizer2 = CountVectorizer(ngram_range=NGRAM_RANGE)\n",
    "custom_predict(vectorizer2, corpus)"
   ]
  },
  {
   "cell_type": "code",
   "execution_count": 221,
   "metadata": {},
   "outputs": [
    {
     "name": "stdout",
     "output_type": "stream",
     "text": [
      "Score ->> 0.759\n"
     ]
    }
   ],
   "source": [
    "tfidf_vectorizer2 = TfidfVectorizer(ngram_range=NGRAM_RANGE)\n",
    "clf = custom_predict(tfidf_vectorizer2, corpus)"
   ]
  }
 ],
 "metadata": {
  "kernelspec": {
   "display_name": "Python 3",
   "language": "python",
   "name": "python3"
  },
  "language_info": {
   "codemirror_mode": {
    "name": "ipython",
    "version": 3
   },
   "file_extension": ".py",
   "mimetype": "text/x-python",
   "name": "python",
   "nbconvert_exporter": "python",
   "pygments_lexer": "ipython3",
   "version": "3.8.1"
  }
 },
 "nbformat": 4,
 "nbformat_minor": 4
}
