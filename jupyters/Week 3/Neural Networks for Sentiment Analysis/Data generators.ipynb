{
 "cells": [
  {
   "cell_type": "code",
   "execution_count": 1,
   "id": "important-appearance",
   "metadata": {},
   "outputs": [],
   "source": [
    "#24"
   ]
  },
  {
   "cell_type": "code",
   "execution_count": 2,
   "id": "increased-consortium",
   "metadata": {},
   "outputs": [
    {
     "name": "stdout",
     "output_type": "stream",
     "text": [
      "[1, 2, 3, 4, 1, 2, 3, 4, 1, 2]\n"
     ]
    }
   ],
   "source": [
    "import random \n",
    "import numpy as np\n",
    "\n",
    "# Example of traversing a list of indexes to create a circular list\n",
    "a = [1, 2, 3, 4]\n",
    "b = [0] * 10\n",
    "\n",
    "a_size = len(a)\n",
    "b_size = len(b)\n",
    "lines_index = [*range(a_size)] # is equivalent to [i for i in range(0,a_size)], the difference being the advantage of using * to pass values of range iterator to list directly\n",
    "index = 0                      # similar to index in data_generator below\n",
    "for i in range(b_size):        # `b` is longer than `a` forcing a wrap\n",
    "    # We wrap by resetting index to 0 so the sequences circle back at the end to point to the first index\n",
    "    if index >= a_size:\n",
    "        index = 0\n",
    "    \n",
    "    b[i] = a[lines_index[index]]     #  `indexes_list[index]` point to a index of a. Store the result in b\n",
    "    index += 1\n",
    "    \n",
    "print(b)"
   ]
  },
  {
   "cell_type": "code",
   "execution_count": 3,
   "id": "ignored-furniture",
   "metadata": {},
   "outputs": [
    {
     "name": "stdout",
     "output_type": "stream",
     "text": [
      "Original order of index: [0, 1, 2, 3]\n",
      "Shuffled order of index: [0, 3, 1, 2]\n",
      "New value order for first batch: [1, 4, 2, 3]\n",
      "\n",
      "Shuffled Indexes for Batch No.2 :[0, 1, 3, 2]\n",
      "Values for Batch No.2 :[1, 2, 4, 3]\n",
      "\n",
      "Shuffled Indexes for Batch No.3 :[0, 3, 1, 2]\n",
      "Values for Batch No.3 :[1, 4, 2, 3]\n",
      "\n",
      "Final value of b: [1, 4, 2, 3, 1, 2, 4, 3, 1, 4]\n"
     ]
    }
   ],
   "source": [
    "# Example of traversing a list of indexes to create a circular list\n",
    "a = [1, 2, 3, 4]\n",
    "b = []\n",
    "\n",
    "a_size = len(a)\n",
    "b_size = 10\n",
    "lines_index = [*range(a_size)]\n",
    "print(\"Original order of index:\",lines_index)\n",
    "\n",
    "# if we shuffle the index_list we can change the order of our circular list\n",
    "# without modifying the order or our original data\n",
    "random.shuffle(lines_index) # Shuffle the order\n",
    "print(\"Shuffled order of index:\",lines_index)\n",
    "\n",
    "print(\"New value order for first batch:\",[a[index] for index in lines_index])\n",
    "batch_counter = 1\n",
    "index = 0                # similar to index in data_generator below\n",
    "for i in range(b_size):  # `b` is longer than `a` forcing a wrap\n",
    "    # We wrap by resetting index to 0\n",
    "    if index >= a_size:\n",
    "        index = 0\n",
    "        batch_counter += 1\n",
    "        random.shuffle(lines_index) # Re-shuffle the order\n",
    "        print(\"\\nShuffled Indexes for Batch No.{} :{}\".format(batch_counter,lines_index))\n",
    "        print(\"Values for Batch No.{} :{}\".format(batch_counter,[a[index] for index in lines_index]))\n",
    "    \n",
    "    b.append(a[lines_index[index]])     #  `indexes_list[index]` point to a index of a. Store the result in b\n",
    "    index += 1\n",
    "print()    \n",
    "print(\"Final value of b:\",b)"
   ]
  },
  {
   "cell_type": "code",
   "execution_count": 6,
   "id": "portable-greene",
   "metadata": {},
   "outputs": [],
   "source": [
    "def data_generator(batch_size, data_x, data_y, shuffle=True):\n",
    "    '''\n",
    "      Input: \n",
    "        batch_size - integer describing the batch size\n",
    "        data_x - list containing samples\n",
    "        data_y - list containing labels\n",
    "        shuffle - Shuffle the data order\n",
    "      Output:\n",
    "        a tuple containing 2 elements:\n",
    "        X - list of dim (batch_size) of samples\n",
    "        Y - list of dim (batch_size) of labels\n",
    "    '''\n",
    "    \n",
    "    data_lng = len(data_x) # len(data_x) must be equal to len(data_y)\n",
    "    index_list = [*range(data_lng)] # Create a list with the ordered indexes of sample data\n",
    "    \n",
    "    \n",
    "    # If shuffle is set to true, we traverse the list in a random way\n",
    "    if shuffle:\n",
    "        random.shuffle(index_list) # Inplace shuffle of the list\n",
    "    \n",
    "    index = 0 # Start with the first element\n",
    "    # START CODE HERE    \n",
    "    # Fill all the None values with code taking reference of what you learned so far\n",
    "    while True:\n",
    "        X = [0] * batch_size # We can create a list with batch_size elements. \n",
    "        Y = [0] * batch_size # We can create a list with batch_size elements. \n",
    "        \n",
    "        for i in range(batch_size):\n",
    "            \n",
    "            # Wrap the index each time that we reach the end of the list\n",
    "            if index >= data_lng:\n",
    "                index = 0\n",
    "                # Shuffle the index_list if shuffle is true\n",
    "                if shuffle:\n",
    "                    rnd.shuffle(index_list) # re-shuffle the order\n",
    "            \n",
    "            X[i] = data_x[index_list[index]] # We set the corresponding element in x\n",
    "            Y[i] = data_y[index_list[index]] # We set the corresponding element in x\n",
    "    # END CODE HERE            \n",
    "            index += 1\n",
    "        print(X, Y)\n",
    "        yield((X, Y))"
   ]
  },
  {
   "cell_type": "code",
   "execution_count": 7,
   "id": "meaningful-attitude",
   "metadata": {},
   "outputs": [
    {
     "name": "stdout",
     "output_type": "stream",
     "text": [
      "[1, 2, 3] [1, 4, 9]\n",
      "[4, 1, 2] [16, 1, 4]\n",
      "[3, 4, 1] [9, 16, 1]\n",
      "[2, 3, 4] [4, 9, 16]\n",
      "\u001b[92mAll tests passed!\n"
     ]
    }
   ],
   "source": [
    "\n",
    "def test_data_generator():\n",
    "    x = [1, 2, 3, 4]\n",
    "    y = [xi ** 2 for xi in x]\n",
    "    \n",
    "    generator = data_generator(3, x, y, shuffle=False)\n",
    "\n",
    "    assert np.allclose(next(generator), ([1, 2, 3], [1, 4, 9])),  \"First batch does not match\"\n",
    "    assert np.allclose(next(generator), ([4, 1, 2], [16, 1, 4])), \"Second batch does not match\"\n",
    "    assert np.allclose(next(generator), ([3, 4, 1], [9, 16, 1])), \"Third batch does not match\"\n",
    "    assert np.allclose(next(generator), ([2, 3, 4], [4, 9, 16])), \"Fourth batch does not match\"\n",
    "\n",
    "    print(\"\\033[92mAll tests passed!\")\n",
    "\n",
    "test_data_generator()"
   ]
  }
 ],
 "metadata": {
  "kernelspec": {
   "display_name": "Python 3",
   "language": "python",
   "name": "python3"
  },
  "language_info": {
   "codemirror_mode": {
    "name": "ipython",
    "version": 3
   },
   "file_extension": ".py",
   "mimetype": "text/x-python",
   "name": "python",
   "nbconvert_exporter": "python",
   "pygments_lexer": "ipython3",
   "version": "3.8.5"
  }
 },
 "nbformat": 4,
 "nbformat_minor": 5
}
