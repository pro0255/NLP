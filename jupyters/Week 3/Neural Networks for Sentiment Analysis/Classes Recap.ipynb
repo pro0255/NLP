{
 "cells": [
  {
   "cell_type": "code",
   "execution_count": 1,
   "id": "following-hundred",
   "metadata": {},
   "outputs": [],
   "source": [
    "class My_Class: \n",
    "    def __init__(self, y): # The __init__ method takes as input the instance to be initialized and a variable y\n",
    "        self.x = y         # Sets parameter x to be equal to y\n",
    "    def __call__(self, z): # __call__ method with self and z as arguments\n",
    "        self.x += z        # Adds z to parameter x when called \n",
    "        print(self.x)\n"
   ]
  },
  {
   "cell_type": "code",
   "execution_count": 2,
   "id": "boxed-horizon",
   "metadata": {},
   "outputs": [],
   "source": [
    "instance_d = My_Class(5)\n"
   ]
  },
  {
   "cell_type": "code",
   "execution_count": 3,
   "id": "pharmaceutical-cameroon",
   "metadata": {},
   "outputs": [
    {
     "name": "stdout",
     "output_type": "stream",
     "text": [
      "15\n"
     ]
    }
   ],
   "source": [
    "instance_d(10)\n"
   ]
  },
  {
   "cell_type": "code",
   "execution_count": null,
   "id": "assigned-genealogy",
   "metadata": {},
   "outputs": [],
   "source": [
    "# not important.."
   ]
  }
 ],
 "metadata": {
  "kernelspec": {
   "display_name": "Python 3",
   "language": "python",
   "name": "python3"
  },
  "language_info": {
   "codemirror_mode": {
    "name": "ipython",
    "version": 3
   },
   "file_extension": ".py",
   "mimetype": "text/x-python",
   "name": "python",
   "nbconvert_exporter": "python",
   "pygments_lexer": "ipython3",
   "version": "3.8.5"
  }
 },
 "nbformat": 4,
 "nbformat_minor": 5
}
